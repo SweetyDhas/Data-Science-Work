{
 "cells": [
  {
   "cell_type": "markdown",
   "id": "a3955086-de6e-4d85-b280-3ea303be372d",
   "metadata": {},
   "source": [
    "# Area of Circle"
   ]
  },
  {
   "cell_type": "code",
   "execution_count": 2,
   "id": "56d9c7c0-0adc-4c60-94b3-b84e8328d171",
   "metadata": {},
   "outputs": [
    {
     "name": "stdin",
     "output_type": "stream",
     "text": [
      "enter the radius of circle 4.5\n"
     ]
    },
    {
     "data": {
      "text/plain": [
       "63.625499999999995"
      ]
     },
     "execution_count": 2,
     "metadata": {},
     "output_type": "execute_result"
    }
   ],
   "source": [
    "radius=float(input('enter the radius of circle'))\n",
    "area_of_circle=3.142*radius**2\n",
    "area_of_circle"
   ]
  },
  {
   "cell_type": "markdown",
   "id": "0e06183d-4838-4c21-afc4-c04d10b7d487",
   "metadata": {},
   "source": [
    "# Area of Semicircle"
   ]
  },
  {
   "cell_type": "code",
   "execution_count": 4,
   "id": "9a14f336-6707-4906-b50d-eba566c72a00",
   "metadata": {},
   "outputs": [
    {
     "name": "stdin",
     "output_type": "stream",
     "text": [
      "enter the radius of circle 4.5\n"
     ]
    },
    {
     "data": {
      "text/plain": [
       "31.812749999999998"
      ]
     },
     "execution_count": 4,
     "metadata": {},
     "output_type": "execute_result"
    }
   ],
   "source": [
    "radius=float(input(\"enter the radius of circle\"))\n",
    "area_of_semicircle=1/2*area_of_circle\n",
    "area_of_semicircle"
   ]
  },
  {
   "cell_type": "markdown",
   "id": "6e53f60a-0a53-4096-b5f9-0b9e43a85b5c",
   "metadata": {},
   "source": [
    "# Area of Oval"
   ]
  },
  {
   "cell_type": "code",
   "execution_count": 6,
   "id": "6cee0bfc-475e-4e6a-9c39-4f424588b632",
   "metadata": {},
   "outputs": [
    {
     "name": "stdin",
     "output_type": "stream",
     "text": [
      "enter major radius 5.5\n",
      "enter minor radius 2.5\n"
     ]
    },
    {
     "data": {
      "text/plain": [
       "43.2025"
      ]
     },
     "execution_count": 6,
     "metadata": {},
     "output_type": "execute_result"
    }
   ],
   "source": [
    "major_radius=float(input(\"enter major radius\"))\n",
    "minor_radius=float(input(\"enter minor radius\"))\n",
    "area_of_oval=3.142*major_radius*minor_radius\n",
    "area_of_oval"
   ]
  },
  {
   "cell_type": "markdown",
   "id": "12258d8b-b8dd-4535-bf23-81175914ccab",
   "metadata": {},
   "source": [
    "# Area of Triangle"
   ]
  },
  {
   "cell_type": "code",
   "execution_count": 8,
   "id": "5a895b58-22a6-483e-a09e-8eaddc04acc2",
   "metadata": {},
   "outputs": [
    {
     "name": "stdin",
     "output_type": "stream",
     "text": [
      "enter base length 11\n",
      "enter height 26\n"
     ]
    },
    {
     "data": {
      "text/plain": [
       "143.0"
      ]
     },
     "execution_count": 8,
     "metadata": {},
     "output_type": "execute_result"
    }
   ],
   "source": [
    "base=float(input(\"enter base length\"))\n",
    "height=float(input(\"enter height\"))\n",
    "area_of_triangle=1/2*base*height\n",
    "area_of_triangle"
   ]
  },
  {
   "cell_type": "markdown",
   "id": "053621d3-cf31-4751-8c0d-c687f724f502",
   "metadata": {},
   "source": [
    "# Area of Square"
   ]
  },
  {
   "cell_type": "code",
   "execution_count": 17,
   "id": "2d2d6877-ccf1-4428-a59d-55bbdb24bb5c",
   "metadata": {},
   "outputs": [
    {
     "name": "stdin",
     "output_type": "stream",
     "text": [
      "enter length of any side 26\n"
     ]
    },
    {
     "data": {
      "text/plain": [
       "676.0"
      ]
     },
     "execution_count": 17,
     "metadata": {},
     "output_type": "execute_result"
    }
   ],
   "source": [
    "side_length=float(input(\"enter length of any side\"))\n",
    "area_of_square=side_length**2\n",
    "area_of_square"
   ]
  },
  {
   "cell_type": "markdown",
   "id": "f0440935-7846-4e20-a50e-f6a5c1865700",
   "metadata": {},
   "source": [
    "# Area of Rectangle"
   ]
  },
  {
   "cell_type": "code",
   "execution_count": 20,
   "id": "c952737d-b9c0-4eda-a86a-719968920e48",
   "metadata": {},
   "outputs": [
    {
     "name": "stdin",
     "output_type": "stream",
     "text": [
      "enter the length of rectangle 26\n",
      "enter the bredth of rectangle 11\n"
     ]
    },
    {
     "data": {
      "text/plain": [
       "286.0"
      ]
     },
     "execution_count": 20,
     "metadata": {},
     "output_type": "execute_result"
    }
   ],
   "source": [
    "length=float(input(\"enter the length of rectangle\"))\n",
    "bredth=float(input(\"enter the bredth of rectangle\"))\n",
    "area_of_rectangle=length*bredth\n",
    "area_of_rectangle"
   ]
  },
  {
   "cell_type": "markdown",
   "id": "9782671b-26cb-4e44-a868-ec3ee6b5d7a1",
   "metadata": {},
   "source": [
    "# Area of PArallelogram"
   ]
  },
  {
   "cell_type": "code",
   "execution_count": 23,
   "id": "6e5674e4-ee09-464c-b05e-6f1e75ae0082",
   "metadata": {},
   "outputs": [
    {
     "name": "stdin",
     "output_type": "stream",
     "text": [
      "enter the base of the parallelogem 8.4\n",
      "enter thhe height of the parallelogram 3.7\n"
     ]
    },
    {
     "data": {
      "text/plain": [
       "31.080000000000002"
      ]
     },
     "execution_count": 23,
     "metadata": {},
     "output_type": "execute_result"
    }
   ],
   "source": [
    "base=float(input(\"enter the base of the parallelogem\"))\n",
    "height=float(input(\"enter thhe height of the parallelogram\"))\n",
    "area_of_parallelogram=base*height\n",
    "area_of_parallelogram"
   ]
  },
  {
   "cell_type": "markdown",
   "id": "5833a133-e0c4-4a48-8827-2fcc49cdc315",
   "metadata": {},
   "source": [
    "# Area of Rhombus"
   ]
  },
  {
   "cell_type": "code",
   "execution_count": 26,
   "id": "7468ced3-277d-410a-a458-a6565671bb7f",
   "metadata": {},
   "outputs": [
    {
     "name": "stdin",
     "output_type": "stream",
     "text": [
      "enter the length of first diagonal 26\n",
      "enter the leanth of second diagonal 45\n"
     ]
    },
    {
     "data": {
      "text/plain": [
       "585.0"
      ]
     },
     "execution_count": 26,
     "metadata": {},
     "output_type": "execute_result"
    }
   ],
   "source": [
    "diagonal_1=float(input(\"enter the length of first diagonal\"))\n",
    "diagonal_2=float(input(\"enter the leanth of second diagonal\"))\n",
    "area_of_rhombus=1/2*diagonal_1*diagonal_2\n",
    "area_of_rhombus"
   ]
  },
  {
   "cell_type": "markdown",
   "id": "866512b7-8045-4652-8a39-7d84b68e54fa",
   "metadata": {},
   "source": [
    "# Area of Trapezoid"
   ]
  },
  {
   "cell_type": "code",
   "execution_count": 29,
   "id": "6f9cb3c0-80ac-4dda-a3bc-ba787ecc5e72",
   "metadata": {},
   "outputs": [
    {
     "name": "stdin",
     "output_type": "stream",
     "text": [
      "enter the length of base_1 10\n",
      "enter the length of base_2 5\n",
      "enter the height of trapezoid 25.5\n"
     ]
    },
    {
     "data": {
      "text/plain": [
       "191.25"
      ]
     },
     "execution_count": 29,
     "metadata": {},
     "output_type": "execute_result"
    }
   ],
   "source": [
    "base_1=float(input('enter the length of base_1'))\n",
    "base_2=float(input('enter the length of base_2'))\n",
    "height=float(input('enter the height of trapezoid'))\n",
    "area_of_trapezoid=1/2*(base_1+base_2)*height\n",
    "area_of_trapezoid"
   ]
  },
  {
   "cell_type": "markdown",
   "id": "fad6d419-566b-4ce2-a1aa-766c60c059f6",
   "metadata": {},
   "source": [
    "# Area of Kite"
   ]
  },
  {
   "cell_type": "code",
   "execution_count": 32,
   "id": "1035e579-0579-4978-a332-55c8b20020d6",
   "metadata": {},
   "outputs": [
    {
     "name": "stdin",
     "output_type": "stream",
     "text": [
      "enter the length of first diagonal 15\n",
      "enter the length of second diagonal 25\n"
     ]
    },
    {
     "data": {
      "text/plain": [
       "187.5"
      ]
     },
     "execution_count": 32,
     "metadata": {},
     "output_type": "execute_result"
    }
   ],
   "source": [
    "diagonal_1=float(input('enter the length of first diagonal'))\n",
    "diagonal_2=float(input('enter the length of second diagonal'))\n",
    "area_of_kite=(diagonal_1*diagonal_2)/2\n",
    "area_of_kite"
   ]
  },
  {
   "cell_type": "markdown",
   "id": "3945bc67-0a73-4af5-be16-8e15a5efe11b",
   "metadata": {},
   "source": [
    "# Area of Pentagoan"
   ]
  },
  {
   "cell_type": "code",
   "execution_count": 35,
   "id": "026de12c-34be-49e1-b3e7-fd8d65e81597",
   "metadata": {},
   "outputs": [
    {
     "name": "stdin",
     "output_type": "stream",
     "text": [
      "enter length of s1 4\n",
      "enter length of s2 6\n",
      "enter length of s3 3\n",
      "enter length of s4 8\n",
      "enter length of s5 9\n",
      "enter the apothem 5\n"
     ]
    },
    {
     "data": {
      "text/plain": [
       "75.0"
      ]
     },
     "execution_count": 35,
     "metadata": {},
     "output_type": "execute_result"
    }
   ],
   "source": [
    "s1=float(input('enter length of s1'))\n",
    "s2=float(input('enter length of s2'))\n",
    "s3=float(input('enter length of s3'))\n",
    "s4=float(input('enter length of s4'))\n",
    "s5=float(input('enter length of s5'))\n",
    "perimeter=s1+s2+s3+s4+s5\n",
    "apothem=float(input('enter the apothem')) # apothem is the perpendicular length of any side from center of pentagon\n",
    "area_of_pentagon=1/2*perimeter*apothem\n",
    "area_of_pentagon"
   ]
  },
  {
   "cell_type": "markdown",
   "id": "d2d26a3f-c197-4ea1-844a-0274905b3997",
   "metadata": {},
   "source": [
    "# Area of Hexagon"
   ]
  },
  {
   "cell_type": "code",
   "execution_count": 38,
   "id": "9c8225dd-a174-4944-968b-1323221f2257",
   "metadata": {},
   "outputs": [
    {
     "name": "stdin",
     "output_type": "stream",
     "text": [
      "enter length of side 6\n"
     ]
    },
    {
     "data": {
      "text/plain": [
       "81.0"
      ]
     },
     "execution_count": 38,
     "metadata": {},
     "output_type": "execute_result"
    }
   ],
   "source": [
    "side=float(input('enter length of side'))\n",
    "area_of_hexagon=((3*(3**1/2))/2)*side**2\n",
    "area_of_hexagon"
   ]
  },
  {
   "cell_type": "markdown",
   "id": "390cded4-0940-4f3a-ace4-d6f838c19930",
   "metadata": {},
   "source": [
    "# Valume of Cube"
   ]
  },
  {
   "cell_type": "code",
   "execution_count": 45,
   "id": "ec18e85d-1b42-4c03-ad1f-33412d903df7",
   "metadata": {},
   "outputs": [
    {
     "name": "stdin",
     "output_type": "stream",
     "text": [
      "enter the length of side 6\n"
     ]
    },
    {
     "data": {
      "text/plain": [
       "216.0"
      ]
     },
     "execution_count": 45,
     "metadata": {},
     "output_type": "execute_result"
    }
   ],
   "source": [
    "side=float(input('enter the length of side'))\n",
    "volume_of_cube=side**3\n",
    "volume_of_cube"
   ]
  },
  {
   "cell_type": "markdown",
   "id": "9a35e82a-d974-4ecc-a68d-3c14af4e931b",
   "metadata": {},
   "source": [
    "# Volume of Cuboid"
   ]
  },
  {
   "cell_type": "code",
   "execution_count": 48,
   "id": "a00a2f1f-a046-4fe1-a44f-68eae5bdf63c",
   "metadata": {},
   "outputs": [
    {
     "name": "stdin",
     "output_type": "stream",
     "text": [
      "enter the base of cuboid 2\n",
      "enter the length of cuboid 8\n",
      "enter the height of cuboid 5\n"
     ]
    },
    {
     "data": {
      "text/plain": [
       "80.0"
      ]
     },
     "execution_count": 48,
     "metadata": {},
     "output_type": "execute_result"
    }
   ],
   "source": [
    "base=float(input('enter the base of cuboid'))\n",
    "length=float(input('enter the length of cuboid'))\n",
    "height=float(input('enter the height of cuboid'))\n",
    "volume_of_cuboid=base*length*height\n",
    "volume_of_cuboid"
   ]
  },
  {
   "cell_type": "markdown",
   "id": "2f4da5e9-6521-4bdf-a79d-8a6751a8b062",
   "metadata": {},
   "source": [
    "# Volume of Cone"
   ]
  },
  {
   "cell_type": "code",
   "execution_count": 51,
   "id": "be97e8b3-ae38-4d21-9e10-d8a4a7db7237",
   "metadata": {},
   "outputs": [
    {
     "name": "stdin",
     "output_type": "stream",
     "text": [
      "enter the radius of the base circle of cone 4\n",
      "enter the height of the cone 2\n"
     ]
    },
    {
     "data": {
      "text/plain": [
       "33.51466666666666"
      ]
     },
     "execution_count": 51,
     "metadata": {},
     "output_type": "execute_result"
    }
   ],
   "source": [
    "radius=float(input('enter the radius of the base circle of cone'))\n",
    "height=float(input('enter the height of the cone'))\n",
    "volume_of_cone=1/3*3.142*radius**2*height\n",
    "volume_of_cone"
   ]
  },
  {
   "cell_type": "markdown",
   "id": "37259d1b-a656-4279-b9a7-20173367c792",
   "metadata": {},
   "source": [
    "# Volume of Cylinder"
   ]
  },
  {
   "cell_type": "code",
   "execution_count": 56,
   "id": "485e483f-a507-4156-9b96-e43283196ba5",
   "metadata": {},
   "outputs": [
    {
     "name": "stdin",
     "output_type": "stream",
     "text": [
      "enter the radius of the lower/upper circle of cylinder 4\n",
      "enter the height of the cylinder 9\n"
     ]
    },
    {
     "data": {
      "text/plain": [
       "452.448"
      ]
     },
     "execution_count": 56,
     "metadata": {},
     "output_type": "execute_result"
    }
   ],
   "source": [
    "radius=float(input('enter the radius of the lower/upper circle of cylinder'))\n",
    "height=float(input('enter the height of the cylinder'))\n",
    "volume_of_cylinder=3.142*radius**2*height\n",
    "volume_of_cylinder"
   ]
  },
  {
   "cell_type": "markdown",
   "id": "0c35a826-629c-4a34-a674-1115d831c8c3",
   "metadata": {},
   "source": [
    "# Volume of Sphere"
   ]
  },
  {
   "cell_type": "code",
   "execution_count": 59,
   "id": "158bdd56-19bc-47f8-83af-7fcd32818cd4",
   "metadata": {},
   "outputs": [
    {
     "name": "stdin",
     "output_type": "stream",
     "text": [
      "enter the radius of sphere 4\n"
     ]
    },
    {
     "data": {
      "text/plain": [
       "268.1173333333333"
      ]
     },
     "execution_count": 59,
     "metadata": {},
     "output_type": "execute_result"
    }
   ],
   "source": [
    "radius=float(input('enter the radius of sphere'))\n",
    "volume_of_sphere=4/3*3.142*radius**3\n",
    "volume_of_sphere"
   ]
  },
  {
   "cell_type": "markdown",
   "id": "2c7c5b90-233c-4e54-aeea-1e0aa7353bb6",
   "metadata": {},
   "source": [
    "# Volume of Pyramid"
   ]
  },
  {
   "cell_type": "code",
   "execution_count": 62,
   "id": "0d70f7be-a40a-46b5-ae35-b0f570093fc4",
   "metadata": {},
   "outputs": [
    {
     "name": "stdin",
     "output_type": "stream",
     "text": [
      "enter the base of pyramid 5\n",
      "enter the height of pyramid 10\n"
     ]
    },
    {
     "data": {
      "text/plain": [
       "16.666666666666664"
      ]
     },
     "execution_count": 62,
     "metadata": {},
     "output_type": "execute_result"
    }
   ],
   "source": [
    "base=float(input('enter the base of pyramid'))\n",
    "height=float(input('enter the height of pyramid'))\n",
    "volume_of_pyramid=1/3*base*height\n",
    "volume_of_pyramid"
   ]
  },
  {
   "cell_type": "code",
   "execution_count": null,
   "id": "5c372c92-fd55-4b13-8d3c-7bd02f72fa1e",
   "metadata": {},
   "outputs": [],
   "source": []
  }
 ],
 "metadata": {
  "kernelspec": {
   "display_name": "Python 3 (ipykernel)",
   "language": "python",
   "name": "python3"
  },
  "language_info": {
   "codemirror_mode": {
    "name": "ipython",
    "version": 3
   },
   "file_extension": ".py",
   "mimetype": "text/x-python",
   "name": "python",
   "nbconvert_exporter": "python",
   "pygments_lexer": "ipython3",
   "version": "3.12.4"
  }
 },
 "nbformat": 4,
 "nbformat_minor": 5
}
