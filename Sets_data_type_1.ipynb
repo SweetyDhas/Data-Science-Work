{
 "cells": [
  {
   "cell_type": "markdown",
   "id": "70056e19-0cbe-46ef-8098-ddebb0966711",
   "metadata": {},
   "source": [
    "# Sets\n",
    "1) Sets are used to store multiple items in a single variable.\n",
    "2) A set is a collection of items (strings or floats or integers) which is unordered, unchangeable, and unindexed.\n",
    "3) Duplicates are not allowed in the sets.\n",
    "4) sets are created by enclosing the items (strings or floats or integers) into curly brackets. { } .\n"
   ]
  },
  {
   "cell_type": "code",
   "execution_count": 3,
   "id": "f621f7f8-50ae-442d-b4fc-67f33bbdbe8f",
   "metadata": {},
   "outputs": [
    {
     "data": {
      "text/plain": [
       "{'Dhas', 'Female', 'Govind', 'Sweety'}"
      ]
     },
     "execution_count": 3,
     "metadata": {},
     "output_type": "execute_result"
    }
   ],
   "source": [
    "# Let's create a set containing some strings.\n",
    "a={'Sweety','Govind','Dhas','Female'}\n",
    "a"
   ]
  },
  {
   "cell_type": "code",
   "execution_count": 5,
   "id": "0a149288-932a-4a1a-9549-6a47a08340a3",
   "metadata": {},
   "outputs": [
    {
     "data": {
      "text/plain": [
       "set"
      ]
     },
     "execution_count": 5,
     "metadata": {},
     "output_type": "execute_result"
    }
   ],
   "source": [
    "type(a)"
   ]
  },
  {
   "cell_type": "raw",
   "id": "a82e74a0-d290-40a6-9a0b-fe9d32330063",
   "metadata": {},
   "source": [
    "\n",
    "# It is given that the sets does not support repeatition of values, let's see that what happens if repeat values are given to sets.\n"
   ]
  },
  {
   "cell_type": "code",
   "execution_count": 7,
   "id": "a92af650-cd34-47c8-8ca5-0cce65f4cf71",
   "metadata": {},
   "outputs": [
    {
     "name": "stdout",
     "output_type": "stream",
     "text": [
      "{'Sweety', 'Dhas', 'Govind'}\n",
      "<class 'set'>\n"
     ]
    }
   ],
   "source": [
    "b={'Sweety','Govind','Dhas','Sweety','Govind','Dhas'}\n",
    "print(b)\n",
    "print(type(b))"
   ]
  },
  {
   "cell_type": "raw",
   "id": "a84b4ca9-8dec-4502-9fb4-bd346f55a66e",
   "metadata": {},
   "source": [
    "\n",
    "from above example we can say that the sets not allows the repeatition of values and it is completly unorderd\n"
   ]
  },
  {
   "cell_type": "code",
   "execution_count": 9,
   "id": "d89c2ae2-bcae-4741-8644-b41a6d9a0eec",
   "metadata": {},
   "outputs": [
    {
     "data": {
      "text/plain": [
       "{0, 1, 2, 3, 4, 5}"
      ]
     },
     "execution_count": 9,
     "metadata": {},
     "output_type": "execute_result"
    }
   ],
   "source": [
    "c={0,1,2,3,4,5,False}\n",
    "c"
   ]
  },
  {
   "cell_type": "raw",
   "id": "3a39ceea-945e-4d8a-ab6e-546a8c0ea9b1",
   "metadata": {},
   "source": [
    "\n",
    "In the above example it is seen that \"0\" and \"False\" are considerd as same elements so the \"False\" is the duplicate entry according to the set so it is removed when we print the given set. It is same for the '1' and 'True' if both the entries are given in the input the set removes the 'True' named entry. Let's see this with an example.\n"
   ]
  },
  {
   "cell_type": "code",
   "execution_count": 11,
   "id": "1908cc80-0631-4fc2-84c6-48e84f5babd4",
   "metadata": {},
   "outputs": [
    {
     "data": {
      "text/plain": [
       "{1}"
      ]
     },
     "execution_count": 11,
     "metadata": {},
     "output_type": "execute_result"
    }
   ],
   "source": [
    "d={1,True}\n",
    "d"
   ]
  },
  {
   "cell_type": "markdown",
   "id": "2e6281b7-8c3c-4337-b0af-e8d0d05184b8",
   "metadata": {},
   "source": [
    "# Checking that the item present in the given set or not\n",
    "\n",
    " 1. To check the perticular item present in a set a (say): print(\"item in the set\" in a).\n",
    " 2. To check the perticular item not present in a set b(say): print(\"item in the set\" in b).  "
   ]
  },
  {
   "cell_type": "code",
   "execution_count": 22,
   "id": "34738f37-b61c-4726-9551-5e3374ca9d49",
   "metadata": {},
   "outputs": [
    {
     "name": "stdout",
     "output_type": "stream",
     "text": [
      "{2000, 'Sweety', 'Dhas', 11}\n",
      "True\n"
     ]
    }
   ],
   "source": [
    "e={'Sweety','Dhas',11,11,2000}\n",
    "print(e)\n",
    "print('Sweety' in e)"
   ]
  },
  {
   "cell_type": "code",
   "execution_count": 24,
   "id": "1cb94a3f-33b7-4429-a903-011e109b6fb0",
   "metadata": {},
   "outputs": [
    {
     "name": "stdout",
     "output_type": "stream",
     "text": [
      "False\n"
     ]
    }
   ],
   "source": [
    "print('Sweety' not in e)"
   ]
  },
  {
   "cell_type": "code",
   "execution_count": 32,
   "id": "dc5e0ac3-22fd-494f-b5d3-2a5693c5d571",
   "metadata": {},
   "outputs": [
    {
     "name": "stdout",
     "output_type": "stream",
     "text": [
      "False\n"
     ]
    }
   ],
   "source": [
    "print('kkfs' in e)"
   ]
  },
  {
   "cell_type": "code",
   "execution_count": 40,
   "id": "1ff06d10-6b73-482a-8326-4c46ae15f0f2",
   "metadata": {},
   "outputs": [
    {
     "name": "stdout",
     "output_type": "stream",
     "text": [
      "True\n"
     ]
    }
   ],
   "source": [
    "print('skj' not in e)"
   ]
  },
  {
   "cell_type": "markdown",
   "id": "802abdf7-73d4-4111-8662-5f4903ffa84b",
   "metadata": {},
   "source": [
    "# accessing the elements of set\n",
    "\n",
    "Since set is unorderd and does not supports the indexing and slicing so we can't access directly the set elements but by using \"loops\" we can access the elements of the set."
   ]
  },
  {
   "cell_type": "code",
   "execution_count": 44,
   "id": "0ff699b3-c339-4ab7-80aa-d5568dcf48f4",
   "metadata": {},
   "outputs": [
    {
     "name": "stdout",
     "output_type": "stream",
     "text": [
      "{2000, 'Sweety', 'Dhas', 11}\n"
     ]
    },
    {
     "ename": "TypeError",
     "evalue": "'set' object is not subscriptable",
     "output_type": "error",
     "traceback": [
      "\u001b[1;31m---------------------------------------------------------------------------\u001b[0m",
      "\u001b[1;31mTypeError\u001b[0m                                 Traceback (most recent call last)",
      "Cell \u001b[1;32mIn[44], line 2\u001b[0m\n\u001b[0;32m      1\u001b[0m \u001b[38;5;28mprint\u001b[39m(e)\n\u001b[1;32m----> 2\u001b[0m e[\u001b[38;5;241m0\u001b[39m]\n",
      "\u001b[1;31mTypeError\u001b[0m: 'set' object is not subscriptable"
     ]
    }
   ],
   "source": [
    "print(e)\n",
    "e[0] # it will gives the type of error because set does not supports the indexing."
   ]
  },
  {
   "cell_type": "markdown",
   "id": "ba8db32b-24a3-407e-b391-28f54fb833f3",
   "metadata": {},
   "source": [
    "# Add item\n",
    "\n",
    " 1. Ones a set is created, you cannot change its items, but you can add new items.\n",
    " 2. To add one item to a set use the add  ( ) method."
   ]
  },
  {
   "cell_type": "code",
   "execution_count": 48,
   "id": "c723cc71-a1b2-473e-a832-f564268cb8b2",
   "metadata": {},
   "outputs": [
    {
     "name": "stdout",
     "output_type": "stream",
     "text": [
      "{'swk', 'sdj', 'ewjid', 'whs', 'sjidh'}\n",
      "{'swk', 'Sweety', 'sdj', 'ewjid', 'whs', 'sjidh'}\n"
     ]
    }
   ],
   "source": [
    "s={'sjidh','sdj','whs','ewjid','swk'}\n",
    "print(s)\n",
    "s.add(\"Sweety\")\n",
    "print(s)"
   ]
  },
  {
   "cell_type": "code",
   "execution_count": 50,
   "id": "0b827e3c-ed02-4817-87e0-18653a89b2f6",
   "metadata": {},
   "outputs": [
    {
     "ename": "AttributeError",
     "evalue": "'set' object has no attribute 'append'",
     "output_type": "error",
     "traceback": [
      "\u001b[1;31m---------------------------------------------------------------------------\u001b[0m",
      "\u001b[1;31mAttributeError\u001b[0m                            Traceback (most recent call last)",
      "Cell \u001b[1;32mIn[50], line 1\u001b[0m\n\u001b[1;32m----> 1\u001b[0m s\u001b[38;5;241m.\u001b[39mappend(\u001b[38;5;124m'\u001b[39m\u001b[38;5;124mDhas\u001b[39m\u001b[38;5;124m'\u001b[39m)\n",
      "\u001b[1;31mAttributeError\u001b[0m: 'set' object has no attribute 'append'"
     ]
    }
   ],
   "source": [
    "s.append('Dhas')"
   ]
  },
  {
   "cell_type": "raw",
   "id": "d26c1035-11a9-46a4-a7bf-5152c8e226f0",
   "metadata": {},
   "source": [
    "# Note that the set is unorderd therfore append ( ) method dose not works for the set because append method adds the element at the end. Since there is no order so we can't add element at the end. "
   ]
  },
  {
   "cell_type": "code",
   "execution_count": 52,
   "id": "6ea766a6-5e7f-4454-a4e7-c69ba25359c4",
   "metadata": {},
   "outputs": [
    {
     "ename": "AttributeError",
     "evalue": "'set' object has no attribute 'extend'",
     "output_type": "error",
     "traceback": [
      "\u001b[1;31m---------------------------------------------------------------------------\u001b[0m",
      "\u001b[1;31mAttributeError\u001b[0m                            Traceback (most recent call last)",
      "Cell \u001b[1;32mIn[52], line 1\u001b[0m\n\u001b[1;32m----> 1\u001b[0m s\u001b[38;5;241m.\u001b[39mextend(\u001b[38;5;124m'\u001b[39m\u001b[38;5;124mDhas\u001b[39m\u001b[38;5;124m'\u001b[39m)\n",
      "\u001b[1;31mAttributeError\u001b[0m: 'set' object has no attribute 'extend'"
     ]
    }
   ],
   "source": [
    "s.extend('Dhas') # set does not supports the extend like append."
   ]
  },
  {
   "cell_type": "code",
   "execution_count": 54,
   "id": "7ffa21fa-93ef-4417-9955-25d766354a13",
   "metadata": {},
   "outputs": [
    {
     "ename": "AttributeError",
     "evalue": "'set' object has no attribute 'insert'",
     "output_type": "error",
     "traceback": [
      "\u001b[1;31m---------------------------------------------------------------------------\u001b[0m",
      "\u001b[1;31mAttributeError\u001b[0m                            Traceback (most recent call last)",
      "Cell \u001b[1;32mIn[54], line 1\u001b[0m\n\u001b[1;32m----> 1\u001b[0m s\u001b[38;5;241m.\u001b[39minsert(\u001b[38;5;124m'\u001b[39m\u001b[38;5;124mDhas\u001b[39m\u001b[38;5;124m'\u001b[39m)\n\u001b[0;32m      2\u001b[0m \u001b[38;5;28mprint\u001b[39m(s)\n",
      "\u001b[1;31mAttributeError\u001b[0m: 'set' object has no attribute 'insert'"
     ]
    }
   ],
   "source": [
    "s.insert('Dhas')\n",
    "print(s)"
   ]
  },
  {
   "cell_type": "markdown",
   "id": "3c09b3cc-426a-445e-88d3-bcd3a76665f7",
   "metadata": {},
   "source": [
    "# Add elements of a list / Tuple / set to at set \n",
    "\n",
    "To add list / tuple / set in the set use update ( ) method."
   ]
  },
  {
   "cell_type": "code",
   "execution_count": 59,
   "id": "6267deb7-e549-481e-8a03-772e592a599e",
   "metadata": {},
   "outputs": [
    {
     "name": "stdout",
     "output_type": "stream",
     "text": [
      "{'Maharastra', 'Barshi', 'India', 'Pimpalgaon', 'Solapur'}\n"
     ]
    }
   ],
   "source": [
    "set={'Pimpalgaon','Barshi','Solapur'}\n",
    "list=['Maharastra','India']\n",
    "set.update(list)\n",
    "print(set)"
   ]
  },
  {
   "cell_type": "code",
   "execution_count": 61,
   "id": "ca431337-f1e2-4249-bc0b-90b00a06b458",
   "metadata": {},
   "outputs": [
    {
     "name": "stdout",
     "output_type": "stream",
     "text": [
      "{'Maharastra', 'Barshi', 'Dhas', 'India', 'Sweety', 'Pimpalgaon', 'Solapur'}\n"
     ]
    }
   ],
   "source": [
    "tuple=('Sweety','Dhas')\n",
    "set.update(tuple)\n",
    "print(set)"
   ]
  },
  {
   "cell_type": "code",
   "execution_count": 65,
   "id": "5c851798-8f8b-4a48-a58c-84745aeb6c87",
   "metadata": {},
   "outputs": [
    {
     "name": "stdout",
     "output_type": "stream",
     "text": [
      "{'Maharastra', 'Barshi', 'Female', 'Dhas', 'Student', 'India', 'Sweety', 'Pimpalgaon', 'Solapur'}\n"
     ]
    }
   ],
   "source": [
    "set2={\"Student\",\"Female\"}\n",
    "set.update(set2)\n",
    "print(set)"
   ]
  },
  {
   "cell_type": "markdown",
   "id": "37df5cf0-2633-48a3-9865-590ddb67521d",
   "metadata": {},
   "source": [
    "# Remove Set Items\n",
    "\n",
    " 1. To remove the item from the set use the remove ( ) method.\n",
    " 2. You can also use the discard ( ) method.\n",
    " 3. The difference between the remove and discard method is that       if the item that we are removing by remove ( ) method is not       present in the given set it will give the error, but the           discard( ) method does not gives the error for the same            operation.\n"
   ]
  },
  {
   "cell_type": "code",
   "execution_count": 68,
   "id": "ac0d125f-6de1-461a-a26b-a43d67aa9ce1",
   "metadata": {},
   "outputs": [
    {
     "data": {
      "text/plain": [
       "{'Barshi',\n",
       " 'Dhas',\n",
       " 'Female',\n",
       " 'India',\n",
       " 'Maharastra',\n",
       " 'Pimpalgaon',\n",
       " 'Solapur',\n",
       " 'Student',\n",
       " 'Sweety'}"
      ]
     },
     "execution_count": 68,
     "metadata": {},
     "output_type": "execute_result"
    }
   ],
   "source": [
    "set"
   ]
  },
  {
   "cell_type": "code",
   "execution_count": 72,
   "id": "54d9b0d1-192f-4c43-9dbb-a7c4528cde07",
   "metadata": {},
   "outputs": [
    {
     "data": {
      "text/plain": [
       "{'Barshi',\n",
       " 'Dhas',\n",
       " 'India',\n",
       " 'Maharastra',\n",
       " 'Pimpalgaon',\n",
       " 'Solapur',\n",
       " 'Student',\n",
       " 'Sweety'}"
      ]
     },
     "execution_count": 72,
     "metadata": {},
     "output_type": "execute_result"
    }
   ],
   "source": [
    "set.remove('Female')\n",
    "set"
   ]
  },
  {
   "cell_type": "code",
   "execution_count": 76,
   "id": "5e4086cd-d6bf-4288-92e4-4e16b1f72d23",
   "metadata": {},
   "outputs": [
    {
     "data": {
      "text/plain": [
       "{'Barshi', 'Dhas', 'India', 'Maharastra', 'Pimpalgaon', 'Solapur', 'Student'}"
      ]
     },
     "execution_count": 76,
     "metadata": {},
     "output_type": "execute_result"
    }
   ],
   "source": [
    "set.discard('Sweety')\n",
    "set"
   ]
  },
  {
   "cell_type": "code",
   "execution_count": 78,
   "id": "fba3c220-563f-44bb-a139-eb49389807b3",
   "metadata": {},
   "outputs": [
    {
     "ename": "KeyError",
     "evalue": "'Sweety'",
     "output_type": "error",
     "traceback": [
      "\u001b[1;31m---------------------------------------------------------------------------\u001b[0m",
      "\u001b[1;31mKeyError\u001b[0m                                  Traceback (most recent call last)",
      "Cell \u001b[1;32mIn[78], line 1\u001b[0m\n\u001b[1;32m----> 1\u001b[0m \u001b[38;5;28mset\u001b[39m\u001b[38;5;241m.\u001b[39mremove(\u001b[38;5;124m'\u001b[39m\u001b[38;5;124mSweety\u001b[39m\u001b[38;5;124m'\u001b[39m) \u001b[38;5;66;03m# 'Sweety' is not present in the set so it gives the error.\u001b[39;00m\n\u001b[0;32m      2\u001b[0m \u001b[38;5;28mset\u001b[39m\n",
      "\u001b[1;31mKeyError\u001b[0m: 'Sweety'"
     ]
    }
   ],
   "source": [
    "set.remove('Sweety') # 'Sweety' is not present in the set so it gives the error.\n",
    "set"
   ]
  },
  {
   "cell_type": "code",
   "execution_count": 80,
   "id": "a93c0eb7-4b70-47c4-86f1-c37f146fdb42",
   "metadata": {},
   "outputs": [
    {
     "data": {
      "text/plain": [
       "{'Barshi', 'Dhas', 'India', 'Maharastra', 'Pimpalgaon', 'Solapur', 'Student'}"
      ]
     },
     "execution_count": 80,
     "metadata": {},
     "output_type": "execute_result"
    }
   ],
   "source": [
    "set.discard('Sweety') # 'Sweety' does not present in the set but discard method does not gives\n",
    "#the error.\n",
    "set"
   ]
  },
  {
   "cell_type": "raw",
   "id": "4b72e3d1-f394-4a6f-8efd-e629c7d284b3",
   "metadata": {},
   "source": [
    "\n",
    "Note: You can also use the pop() method to remove an item but this method will remove a random item, so you cannot be sure what item that gets removed.\n"
   ]
  },
  {
   "cell_type": "code",
   "execution_count": 82,
   "id": "e3cda324-0e58-42ba-bc96-dd32e0e05802",
   "metadata": {},
   "outputs": [
    {
     "name": "stdout",
     "output_type": "stream",
     "text": [
      "{'Maharastra', 'Barshi', 'Dhas', 'Student', 'India', 'Pimpalgaon', 'Solapur'}\n",
      "{'Barshi', 'Dhas', 'Student', 'India', 'Pimpalgaon', 'Solapur'}\n"
     ]
    }
   ],
   "source": [
    "print(set)\n",
    "set.pop()\n",
    "print(set)"
   ]
  },
  {
   "cell_type": "markdown",
   "id": "62069ef3-edbd-47b0-b8f4-81389976a171",
   "metadata": {},
   "source": [
    "# Remove Set Items and Deleting the set\n",
    "\n",
    " 1. To remove the item from the set set.remove( ) method is used.\n",
    " 2. To delete the set del set method is used."
   ]
  },
  {
   "cell_type": "code",
   "execution_count": 87,
   "id": "6446ff2f-0458-4c1d-9eb1-862695233cd0",
   "metadata": {},
   "outputs": [
    {
     "data": {
      "text/plain": [
       "{26, 36}"
      ]
     },
     "execution_count": 87,
     "metadata": {},
     "output_type": "execute_result"
    }
   ],
   "source": [
    "u={26,36,11}\n",
    "u.remove(11)\n",
    "u"
   ]
  },
  {
   "cell_type": "code",
   "execution_count": 89,
   "id": "025cb725-176f-4c60-b3c2-5087fbe3f2e8",
   "metadata": {},
   "outputs": [
    {
     "ename": "NameError",
     "evalue": "name 'u' is not defined",
     "output_type": "error",
     "traceback": [
      "\u001b[1;31m---------------------------------------------------------------------------\u001b[0m",
      "\u001b[1;31mNameError\u001b[0m                                 Traceback (most recent call last)",
      "Cell \u001b[1;32mIn[89], line 2\u001b[0m\n\u001b[0;32m      1\u001b[0m \u001b[38;5;28;01mdel\u001b[39;00m u\n\u001b[1;32m----> 2\u001b[0m u\n",
      "\u001b[1;31mNameError\u001b[0m: name 'u' is not defined"
     ]
    }
   ],
   "source": [
    "del u\n",
    "u"
   ]
  },
  {
   "cell_type": "markdown",
   "id": "38e165a9-debc-4efd-b488-537c8ec44662",
   "metadata": {},
   "source": [
    "# Set Operations\n",
    "\n",
    " 1. union ( ). It will gives the all the elements of the all the sets for which you are using union. The same elements in all the sets are taken only once.\n",
    " 2. Intersection ( ). It will gives the set of common element from all the set for which you are using the intersection.\n",
    " 3. Intersection_update ( ). It gives the intersection of sets and makechanges in the original set.\n",
    " 4. update ( ). It adds the one set to another and it is useful for adding the tupple and lists in the set."
   ]
  },
  {
   "cell_type": "code",
   "execution_count": 4,
   "id": "dab51770-d009-4f9f-907e-be94dac81730",
   "metadata": {},
   "outputs": [
    {
     "name": "stdout",
     "output_type": "stream",
     "text": [
      "{'Pune', 'am', 'I', 'in', 'Keshav', 'Where are you', 'Hi'}\n"
     ]
    }
   ],
   "source": [
    "set1={'Hi','Keshav','Where are you'}\n",
    "set2={'I','am','in','Pune'}\n",
    "set3=set1.union(set2)\n",
    "print(set3)"
   ]
  },
  {
   "cell_type": "code",
   "execution_count": 6,
   "id": "404a358a-837c-487a-8d37-4efdcb4f4589",
   "metadata": {},
   "outputs": [
    {
     "name": "stdout",
     "output_type": "stream",
     "text": [
      "set()\n"
     ]
    }
   ],
   "source": [
    "set4=set1.intersection(set2)\n",
    "print(set4)"
   ]
  },
  {
   "cell_type": "code",
   "execution_count": 8,
   "id": "1166d700-8752-4025-b784-2b9f988dc8d2",
   "metadata": {},
   "outputs": [
    {
     "name": "stdout",
     "output_type": "stream",
     "text": [
      "set()\n"
     ]
    }
   ],
   "source": [
    "set1.intersection_update(set2)\n",
    "print(set1)"
   ]
  },
  {
   "cell_type": "code",
   "execution_count": 10,
   "id": "5f41900b-1970-4e8f-8659-a184db8db42c",
   "metadata": {},
   "outputs": [
    {
     "data": {
      "text/plain": [
       "set()"
      ]
     },
     "execution_count": 10,
     "metadata": {},
     "output_type": "execute_result"
    }
   ],
   "source": [
    "set1 # So our set1 is now modified and it becomes the null set."
   ]
  },
  {
   "cell_type": "code",
   "execution_count": 12,
   "id": "e137a8b1-2f05-4684-92af-22f33fab5459",
   "metadata": {},
   "outputs": [
    {
     "name": "stdout",
     "output_type": "stream",
     "text": [
      "{545, 98, 38, 873, 498, 537, 637}\n"
     ]
    }
   ],
   "source": [
    "set5={545,873,98,537}\n",
    "set6={38,637,498}\n",
    "set7=set5.symmetric_difference(set6)\n",
    "print(set7)"
   ]
  },
  {
   "cell_type": "raw",
   "id": "2edd11d9-5c7a-4514-83a4-59eb81b7f7de",
   "metadata": {},
   "source": [
    "# Note: symmetric_difference gives the all items from both sets except those that are common to both."
   ]
  },
  {
   "cell_type": "code",
   "execution_count": 14,
   "id": "c520b515-2840-493a-931b-ff65fa0e722b",
   "metadata": {},
   "outputs": [
    {
     "data": {
      "text/plain": [
       "{237, 476, 635, 837, 3467, 3487, 36287, 37498, 62783, 5671923, 9874382}"
      ]
     },
     "execution_count": 14,
     "metadata": {},
     "output_type": "execute_result"
    }
   ],
   "source": [
    "set5={635,3487,476,62783,837}\n",
    "set8={3467,36287,37498,5671923,9874382,237}\n",
    "set9=set5.symmetric_difference(set8)\n",
    "set9"
   ]
  },
  {
   "cell_type": "markdown",
   "id": "f95a21d9-d8af-4619-bbe1-41c5b8b2eecb",
   "metadata": {},
   "source": [
    "# Some additional methods for the set\n",
    "\n",
    " 1. issubset( ). Suppose 'a' and 'b' are two sets then a.issubset(b) checks whether the set a is subset of b or not.\n",
    " 2. issubset( ). Suppose 'a' and 'b' are two sets then a.issuperset(b) checks whether the set 'a' is superset of 'b' or not.\n",
    " 3. isdisjoint( ). Suppose 'a' and 'b' are two sets then a.isdisjoint(b) checkwhether the set 'a' and 'b' are disjoint or not. i.e. there are no common elements in 'a' and 'b'.\n",
    " 4. pop( ). Remove the random element of set. "
   ]
  },
  {
   "cell_type": "code",
   "execution_count": 18,
   "id": "4495b67b-1707-4da8-a477-8c4cf00fa3db",
   "metadata": {},
   "outputs": [
    {
     "data": {
      "text/plain": [
       "True"
      ]
     },
     "execution_count": 18,
     "metadata": {},
     "output_type": "execute_result"
    }
   ],
   "source": [
    "k={11,11,2000}\n",
    "j={11,11,2000,'Sweety','Dhas'}\n",
    "k.issubset(j)"
   ]
  },
  {
   "cell_type": "code",
   "execution_count": 20,
   "id": "307cbd05-67e7-43c0-8eab-560a7a153466",
   "metadata": {},
   "outputs": [
    {
     "data": {
      "text/plain": [
       "False"
      ]
     },
     "execution_count": 20,
     "metadata": {},
     "output_type": "execute_result"
    }
   ],
   "source": [
    "j.issubset(k)"
   ]
  },
  {
   "cell_type": "code",
   "execution_count": 22,
   "id": "0d63f593-0095-46e7-a215-2f725f47daa4",
   "metadata": {},
   "outputs": [
    {
     "data": {
      "text/plain": [
       "True"
      ]
     },
     "execution_count": 22,
     "metadata": {},
     "output_type": "execute_result"
    }
   ],
   "source": [
    "j.issuperset(k)"
   ]
  },
  {
   "cell_type": "code",
   "execution_count": 24,
   "id": "d258808c-00dd-4346-a58d-65c5e7ccbdb3",
   "metadata": {},
   "outputs": [
    {
     "data": {
      "text/plain": [
       "False"
      ]
     },
     "execution_count": 24,
     "metadata": {},
     "output_type": "execute_result"
    }
   ],
   "source": [
    "k.issuperset(j)"
   ]
  },
  {
   "cell_type": "code",
   "execution_count": 26,
   "id": "e527633d-516e-4895-a86f-c36834dc70b1",
   "metadata": {},
   "outputs": [
    {
     "data": {
      "text/plain": [
       "False"
      ]
     },
     "execution_count": 26,
     "metadata": {},
     "output_type": "execute_result"
    }
   ],
   "source": [
    "k.isdisjoint(j)"
   ]
  },
  {
   "cell_type": "code",
   "execution_count": 28,
   "id": "30662b2e-4142-4ed9-95c0-5600e9136d7b",
   "metadata": {},
   "outputs": [
    {
     "name": "stdout",
     "output_type": "stream",
     "text": [
      "{11}\n"
     ]
    }
   ],
   "source": [
    "k.pop() # here the result is it's take the first two values form k\n",
    "print(k)"
   ]
  },
  {
   "cell_type": "code",
   "execution_count": 32,
   "id": "dbf1ac42-dd74-42d9-9fd1-e61a2365bb3f",
   "metadata": {},
   "outputs": [
    {
     "ename": "NameError",
     "evalue": "name 'k' is not defined",
     "output_type": "error",
     "traceback": [
      "\u001b[1;31m---------------------------------------------------------------------------\u001b[0m",
      "\u001b[1;31mNameError\u001b[0m                                 Traceback (most recent call last)",
      "Cell \u001b[1;32mIn[32], line 1\u001b[0m\n\u001b[1;32m----> 1\u001b[0m \u001b[38;5;28;01mdel\u001b[39;00m k\n\u001b[0;32m      2\u001b[0m k\n",
      "\u001b[1;31mNameError\u001b[0m: name 'k' is not defined"
     ]
    }
   ],
   "source": [
    "del k\n",
    "k"
   ]
  },
  {
   "cell_type": "code",
   "execution_count": null,
   "id": "03456b2e-ea8b-48ac-a653-00f9af370603",
   "metadata": {},
   "outputs": [],
   "source": []
  }
 ],
 "metadata": {
  "kernelspec": {
   "display_name": "Python 3 (ipykernel)",
   "language": "python",
   "name": "python3"
  },
  "language_info": {
   "codemirror_mode": {
    "name": "ipython",
    "version": 3
   },
   "file_extension": ".py",
   "mimetype": "text/x-python",
   "name": "python",
   "nbconvert_exporter": "python",
   "pygments_lexer": "ipython3",
   "version": "3.12.4"
  }
 },
 "nbformat": 4,
 "nbformat_minor": 5
}
