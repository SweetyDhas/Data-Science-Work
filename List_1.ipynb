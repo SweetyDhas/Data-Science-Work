{
 "cells": [
  {
   "cell_type": "raw",
   "id": "d18535cc-55cb-461f-bb5d-6430fc1af1d0",
   "metadata": {},
   "source": [
    "To create list in python the square brackets [] are used. \n",
    "In python list is used to store multiple values in a single variable, which are accesable through the proper command. \n",
    "List can be used to store the various data type.\n",
    "e.g - int, string, boolean etc.\n",
    "List can be have mixed data type."
   ]
  },
  {
   "cell_type": "markdown",
   "id": "518b1d0d-69b5-4f36-9de4-732cda66780c",
   "metadata": {},
   "source": [
    "# List Creation"
   ]
  },
  {
   "cell_type": "code",
   "execution_count": 2,
   "id": "0622cb66-1037-41c7-a9ab-91897b708f9c",
   "metadata": {},
   "outputs": [
    {
     "data": {
      "text/plain": [
       "[26, 11, 36, 23, 12]"
      ]
     },
     "execution_count": 2,
     "metadata": {},
     "output_type": "execute_result"
    }
   ],
   "source": [
    "s=[26,11,36,23,12]\n",
    "s"
   ]
  },
  {
   "cell_type": "code",
   "execution_count": 3,
   "id": "c631edd3-f0eb-4e64-a074-81de4923115c",
   "metadata": {},
   "outputs": [
    {
     "data": {
      "text/plain": [
       "['Sweety', 'Govind', 'Dhas']"
      ]
     },
     "execution_count": 3,
     "metadata": {},
     "output_type": "execute_result"
    }
   ],
   "source": [
    "d=['Sweety','Govind','Dhas']\n",
    "d"
   ]
  },
  {
   "cell_type": "code",
   "execution_count": 4,
   "id": "75a5274b-7911-4278-a9cd-6ba11aff393e",
   "metadata": {},
   "outputs": [
    {
     "data": {
      "text/plain": [
       "['sweety', 11, 'nov', 2000]"
      ]
     },
     "execution_count": 4,
     "metadata": {},
     "output_type": "execute_result"
    }
   ],
   "source": [
    "k=['sweety',11,'nov',2000]\n",
    "k"
   ]
  },
  {
   "cell_type": "markdown",
   "id": "39f6152f-80f7-43e6-be1b-081b09de26d0",
   "metadata": {},
   "source": [
    "# Nasted list"
   ]
  },
  {
   "cell_type": "raw",
   "id": "9ce495f3-f025-427e-9314-09ad63ed63b5",
   "metadata": {},
   "source": [
    "Nasted list means list of list."
   ]
  },
  {
   "cell_type": "code",
   "execution_count": 6,
   "id": "3bcca454-c6f1-4ef1-aab2-1882f5c55420",
   "metadata": {},
   "outputs": [
    {
     "data": {
      "text/plain": [
       "[26, 11, 36, ['Keshav', 'Joshi']]"
      ]
     },
     "execution_count": 6,
     "metadata": {},
     "output_type": "execute_result"
    }
   ],
   "source": [
    "j=[26,11,36,['Keshav','Joshi']]\n",
    "j"
   ]
  },
  {
   "cell_type": "code",
   "execution_count": 7,
   "id": "ebd0cf76-0a52-4fd7-942f-0c58a3f84185",
   "metadata": {},
   "outputs": [
    {
     "data": {
      "text/plain": [
       "list"
      ]
     },
     "execution_count": 7,
     "metadata": {},
     "output_type": "execute_result"
    }
   ],
   "source": [
    "type(j)"
   ]
  },
  {
   "cell_type": "markdown",
   "id": "9a3950ba-7134-4dc9-8a3c-90bfdcfdb253",
   "metadata": {},
   "source": [
    "# List Methods"
   ]
  },
  {
   "cell_type": "markdown",
   "id": "6c0da99c-0a26-41d2-9a45-f98576afaac3",
   "metadata": {},
   "source": [
    "## 1. Append\n",
    " The append method adds the new element as last element of the given list if append is used to add list to another list then the list which you want to add becomes the single element of that list."
   ]
  },
  {
   "cell_type": "code",
   "execution_count": 10,
   "id": "eb0f27d6-0b2c-40d3-8e2d-743c00cf7bcc",
   "metadata": {},
   "outputs": [
    {
     "data": {
      "text/plain": [
       "['Sweety', 'Govind', 'Dhas', 11, 'Nov', 2000]"
      ]
     },
     "execution_count": 10,
     "metadata": {},
     "output_type": "execute_result"
    }
   ],
   "source": [
    "list_1=['Sweety','Govind','Dhas',11,'Nov',2000]\n",
    "list_1"
   ]
  },
  {
   "cell_type": "code",
   "execution_count": 11,
   "id": "725d0059-b105-4a12-a667-dc31d5b2eca0",
   "metadata": {},
   "outputs": [
    {
     "data": {
      "text/plain": [
       "['Keshav', 'Mahesh', 'Joshi', 26, 'Feb', 2001]"
      ]
     },
     "execution_count": 11,
     "metadata": {},
     "output_type": "execute_result"
    }
   ],
   "source": [
    "list_2=['Keshav','Mahesh','Joshi',26,'Feb',2001]\n",
    "list_2"
   ]
  },
  {
   "cell_type": "code",
   "execution_count": 12,
   "id": "1f2e5f34-275a-4d2f-b09f-8dd59eb40b01",
   "metadata": {},
   "outputs": [],
   "source": [
    "list_1.append('girl') # which adds the 'girl' at the end of list_1."
   ]
  },
  {
   "cell_type": "code",
   "execution_count": 13,
   "id": "332e119c-4303-4010-ac9b-a783af1eefbe",
   "metadata": {},
   "outputs": [
    {
     "data": {
      "text/plain": [
       "['Sweety', 'Govind', 'Dhas', 11, 'Nov', 2000, 'girl']"
      ]
     },
     "execution_count": 13,
     "metadata": {},
     "output_type": "execute_result"
    }
   ],
   "source": [
    "list_1"
   ]
  },
  {
   "cell_type": "code",
   "execution_count": 14,
   "id": "c02d92ff-42d8-47c4-9df6-a7889108801f",
   "metadata": {},
   "outputs": [],
   "source": [
    "list_2.append('boy') # which adds the 'boy' at the end of list_2"
   ]
  },
  {
   "cell_type": "code",
   "execution_count": 15,
   "id": "9322ea18-efa6-4fd0-85aa-91ded7dd82c9",
   "metadata": {},
   "outputs": [
    {
     "data": {
      "text/plain": [
       "['Keshav', 'Mahesh', 'Joshi', 26, 'Feb', 2001, 'boy']"
      ]
     },
     "execution_count": 15,
     "metadata": {},
     "output_type": "execute_result"
    }
   ],
   "source": [
    "list_2"
   ]
  },
  {
   "cell_type": "code",
   "execution_count": 16,
   "id": "1b553cc1-7565-416c-9b4a-e0927eedd8b4",
   "metadata": {},
   "outputs": [
    {
     "data": {
      "text/plain": [
       "['Sweety', 'Govind', 'Dhas', 11, 'Nov', 2000, 'girl', 'boy']"
      ]
     },
     "execution_count": 16,
     "metadata": {},
     "output_type": "execute_result"
    }
   ],
   "source": [
    "list_1.append('boy')\n",
    "list_1"
   ]
  },
  {
   "cell_type": "code",
   "execution_count": 17,
   "id": "1f2208de-2585-4327-afed-95f5c087f689",
   "metadata": {},
   "outputs": [
    {
     "data": {
      "text/plain": [
       "['Keshav', 'Mahesh', 'Joshi', 26, 'Feb', 2001, 'boy', 'girl']"
      ]
     },
     "execution_count": 17,
     "metadata": {},
     "output_type": "execute_result"
    }
   ],
   "source": [
    "list_2.append('girl')\n",
    "list_2"
   ]
  },
  {
   "cell_type": "code",
   "execution_count": 18,
   "id": "65547005-263e-4933-80c4-0175436eee0d",
   "metadata": {},
   "outputs": [
    {
     "data": {
      "text/plain": [
       "['Sweety',\n",
       " 'Govind',\n",
       " 'Dhas',\n",
       " 11,\n",
       " 'Nov',\n",
       " 2000,\n",
       " 'girl',\n",
       " 'boy',\n",
       " ['Keshav', 'Mahesh', 'Joshi', 26, 'Feb', 2001, 'boy', 'girl']]"
      ]
     },
     "execution_count": 18,
     "metadata": {},
     "output_type": "execute_result"
    }
   ],
   "source": [
    "# To add the list_2 as element to the list_1\n",
    "list_1.append(list_2)\n",
    "list_1"
   ]
  },
  {
   "cell_type": "raw",
   "id": "aca8885c-adfe-4fb4-879c-8c280fe84edc",
   "metadata": {},
   "source": [
    "\n",
    "i.e list_2 is now the sinlge element of list_1\n",
    "  append is the method so whenever append is used for any list \n",
    "the respective changed are\n",
    "  made in the original list. i.e when we call for original list the changed / modified list.\n",
    " will appears in the output.\n"
   ]
  },
  {
   "cell_type": "code",
   "execution_count": 19,
   "id": "382d8c71-03ea-4f02-950f-385fd37dbad4",
   "metadata": {},
   "outputs": [
    {
     "data": {
      "text/plain": [
       "['s', 'w', 'e', 'e', 't', 'y', 'j']"
      ]
     },
     "execution_count": 19,
     "metadata": {},
     "output_type": "execute_result"
    }
   ],
   "source": [
    "list_3=['s','w','e','e','t','y']\n",
    "list_3.append('j')\n",
    "list_3"
   ]
  },
  {
   "cell_type": "code",
   "execution_count": 20,
   "id": "17cd4c50-26b4-4ec6-9980-4af48fd05ff3",
   "metadata": {},
   "outputs": [
    {
     "data": {
      "text/plain": [
       "['k', 'e', 's', 'h', 'a', 'v', ['s', 'w', 'e', 'e', 't', 'y', 'j']]"
      ]
     },
     "execution_count": 20,
     "metadata": {},
     "output_type": "execute_result"
    }
   ],
   "source": [
    "list_4=['k','e','s','h','a','v']\n",
    "list_4\n",
    "list_4.append(list_3)\n",
    "list_4"
   ]
  },
  {
   "cell_type": "markdown",
   "id": "6c86d86a-df68-45e4-b722-154f0db77052",
   "metadata": {},
   "source": [
    "# 2.Extend\n",
    "\n",
    "Extend also adds the new element like append but the difference is that extend method expands the given list. If extend is used to add one list to another it adds the all elements of second list to the first list. i.e all elements of the second list are now elements of the first. That means it does not add the whole list as a single element of the given list."
   ]
  },
  {
   "cell_type": "code",
   "execution_count": 22,
   "id": "e3e992c4-3a71-4c12-ba2d-18c3cc04c491",
   "metadata": {},
   "outputs": [
    {
     "data": {
      "text/plain": [
       "[11, 11, 2000, 'S', 'w', 'e', 'e', 't', 'y']"
      ]
     },
     "execution_count": 22,
     "metadata": {},
     "output_type": "execute_result"
    }
   ],
   "source": [
    "list_5=[11,11,2000]\n",
    "list_5.extend('Sweety')\n",
    "list_5"
   ]
  },
  {
   "cell_type": "code",
   "execution_count": 23,
   "id": "0039c12f-107d-4e7d-b009-d424f1f38c24",
   "metadata": {},
   "outputs": [
    {
     "data": {
      "text/plain": [
       "[12, 13, 14, 15, 16, 17, 18, 19]"
      ]
     },
     "execution_count": 23,
     "metadata": {},
     "output_type": "execute_result"
    }
   ],
   "source": [
    "list_6=[12,13,14,15]\n",
    "list_7=[16,17,18,19]\n",
    "list_6.extend(list_7)\n",
    "list_6"
   ]
  },
  {
   "cell_type": "markdown",
   "id": "22469b70-76d8-4a7c-8ac3-28e13211dc6a",
   "metadata": {},
   "source": [
    "# Extend list with the non list elements\n",
    "\n",
    " Suppose a list is given and we want to add non listed element like 0,1,2 etc in the list then the following method is used."
   ]
  },
  {
   "cell_type": "code",
   "execution_count": 25,
   "id": "9108fe25-b103-4b9a-9eb8-2f6b3481fa9e",
   "metadata": {},
   "outputs": [
    {
     "data": {
      "text/plain": [
       "[1, 2, 3, 4, 5, 6, 7, 8, 9, 0, 1, 2]"
      ]
     },
     "execution_count": 25,
     "metadata": {},
     "output_type": "execute_result"
    }
   ],
   "source": [
    "a=[1,2,3,4,5,6,7,8,9]\n",
    "a.extend(range(3)) # this will add three index starting from zero.\n",
    "a"
   ]
  },
  {
   "cell_type": "code",
   "execution_count": 26,
   "id": "1ac9f833-bd2b-4dd5-b65a-2d0efb57d2df",
   "metadata": {},
   "outputs": [
    {
     "data": {
      "text/plain": [
       "[1, 2, 3, 4, 5, 6, 7, 8, 9, 0, 1, 2, 0, 1, 2, 3, 4]"
      ]
     },
     "execution_count": 26,
     "metadata": {},
     "output_type": "execute_result"
    }
   ],
   "source": [
    "a.extend(range(5))\n",
    "a"
   ]
  },
  {
   "cell_type": "code",
   "execution_count": 27,
   "id": "c8dbd555-4853-41f3-82ce-8fe4e6898af6",
   "metadata": {},
   "outputs": [
    {
     "ename": "SyntaxError",
     "evalue": "invalid syntax (2069093222.py, line 1)",
     "output_type": "error",
     "traceback": [
      "\u001b[1;36m  Cell \u001b[1;32mIn[27], line 1\u001b[1;36m\u001b[0m\n\u001b[1;33m    a.extend(range(2:5)) # range function cannot have 2 parameters.\u001b[0m\n\u001b[1;37m                    ^\u001b[0m\n\u001b[1;31mSyntaxError\u001b[0m\u001b[1;31m:\u001b[0m invalid syntax\n"
     ]
    }
   ],
   "source": [
    "a.extend(range(2:5)) # range function cannot have 2 parameters.\n",
    "a"
   ]
  },
  {
   "cell_type": "markdown",
   "id": "5ddd0e87-68d3-4b3f-9cde-1067d5eeaf69",
   "metadata": {},
   "source": [
    "# Extend list using \"+\" operator"
   ]
  },
  {
   "cell_type": "code",
   "execution_count": 54,
   "id": "3b1a8227-9288-4047-9865-05d37b813600",
   "metadata": {},
   "outputs": [
    {
     "data": {
      "text/plain": [
       "['Sweety', 'Govind', 'Dhas']"
      ]
     },
     "execution_count": 54,
     "metadata": {},
     "output_type": "execute_result"
    }
   ],
   "source": [
    "k=['Sweety']\n",
    "j=['Govind','Dhas']\n",
    "m=k+j\n",
    "m"
   ]
  },
  {
   "cell_type": "code",
   "execution_count": 56,
   "id": "c4b6f362-0e35-411c-92f1-0b7a9e48820c",
   "metadata": {},
   "outputs": [
    {
     "ename": "TypeError",
     "evalue": "unsupported operand type(s) for -: 'list' and 'list'",
     "output_type": "error",
     "traceback": [
      "\u001b[1;31m---------------------------------------------------------------------------\u001b[0m",
      "\u001b[1;31mTypeError\u001b[0m                                 Traceback (most recent call last)",
      "Cell \u001b[1;32mIn[56], line 1\u001b[0m\n\u001b[1;32m----> 1\u001b[0m l\u001b[38;5;241m=\u001b[39mk\u001b[38;5;241m-\u001b[39mj \u001b[38;5;66;03m# '-' operator is not supported in the list\u001b[39;00m\n\u001b[0;32m      2\u001b[0m l\n",
      "\u001b[1;31mTypeError\u001b[0m: unsupported operand type(s) for -: 'list' and 'list'"
     ]
    }
   ],
   "source": [
    "l=k-j # '-' operator is not supported in the list\n",
    "l"
   ]
  },
  {
   "cell_type": "markdown",
   "id": "e9b9019d-118b-4a8a-9b3c-3967fcba4f08",
   "metadata": {},
   "source": [
    "# Index\n",
    "\n",
    "Gives the element in the list at the given index or at a given position."
   ]
  },
  {
   "cell_type": "code",
   "execution_count": 58,
   "id": "c26af428-8caf-4e24-97d8-202221589afc",
   "metadata": {},
   "outputs": [
    {
     "data": {
      "text/plain": [
       "['skj', 'dsjhdiu', 'asgys', 'wgdi', 'whuwsd', 'ftvs', 'dguytd', 'dyeg', 'sytd']"
      ]
     },
     "execution_count": 58,
     "metadata": {},
     "output_type": "execute_result"
    }
   ],
   "source": [
    "x=['skj','dsjhdiu','asgys','wgdi','whuwsd','ftvs','dguytd','dyeg','sytd']\n",
    "x"
   ]
  },
  {
   "cell_type": "code",
   "execution_count": 60,
   "id": "d8123389-29c3-4274-9f01-b1647794dafe",
   "metadata": {},
   "outputs": [
    {
     "data": {
      "text/plain": [
       "'skj'"
      ]
     },
     "execution_count": 60,
     "metadata": {},
     "output_type": "execute_result"
    }
   ],
   "source": [
    "x[0] # gives the first element of the list because the indexing always starts with the zero th\n",
    "# index and in python zero th index means the first position element."
   ]
  },
  {
   "cell_type": "code",
   "execution_count": 62,
   "id": "74892812-9a3b-44c6-9edf-5e3cc8dc483a",
   "metadata": {},
   "outputs": [
    {
     "ename": "IndexError",
     "evalue": "list index out of range",
     "output_type": "error",
     "traceback": [
      "\u001b[1;31m---------------------------------------------------------------------------\u001b[0m",
      "\u001b[1;31mIndexError\u001b[0m                                Traceback (most recent call last)",
      "Cell \u001b[1;32mIn[62], line 1\u001b[0m\n\u001b[1;32m----> 1\u001b[0m x[\u001b[38;5;241m9\u001b[39m]\n",
      "\u001b[1;31mIndexError\u001b[0m: list index out of range"
     ]
    }
   ],
   "source": [
    "x[9] # here output will show the error that is 'index error' which means somthing is wrong with\n",
    "# the indexing and if we give index which is not exist that high index then it shows the 'list'\n",
    "# index out of range"
   ]
  },
  {
   "cell_type": "code",
   "execution_count": 64,
   "id": "447bdc0e-eb8b-4925-bc77-90b3f715999b",
   "metadata": {},
   "outputs": [
    {
     "data": {
      "text/plain": [
       "9"
      ]
     },
     "execution_count": 64,
     "metadata": {},
     "output_type": "execute_result"
    }
   ],
   "source": [
    "# If we want to find length of a given list\n",
    "len(x)"
   ]
  },
  {
   "cell_type": "raw",
   "id": "72682c1d-f672-40e6-88f0-7cee33556083",
   "metadata": {},
   "source": [
    "\n",
    "In above example the length of a list is 9 and we have given an input as x[9] that means the 10th element in the list which doesn't exist therefore the index error occurs.\n"
   ]
  },
  {
   "cell_type": "code",
   "execution_count": 66,
   "id": "46ff82ef-c8f0-416c-a599-a3978b24a2b1",
   "metadata": {},
   "outputs": [
    {
     "data": {
      "text/plain": [
       "['skj', 'dsjhdiu', 'asgys', 'wgdi', 'whuwsd', 'ftvs', 'dguytd', 'dyeg', 'sytd']"
      ]
     },
     "execution_count": 66,
     "metadata": {},
     "output_type": "execute_result"
    }
   ],
   "source": [
    "x"
   ]
  },
  {
   "cell_type": "code",
   "execution_count": 68,
   "id": "39207025-bb92-4f51-8363-b718b6953e14",
   "metadata": {},
   "outputs": [
    {
     "data": {
      "text/plain": [
       "'sytd'"
      ]
     },
     "execution_count": 68,
     "metadata": {},
     "output_type": "execute_result"
    }
   ],
   "source": [
    "x[-1] # reverse indexing starts from -1. i.e if we call x[-1] it shows the last element of list."
   ]
  },
  {
   "cell_type": "code",
   "execution_count": 70,
   "id": "8805ed58-66d4-4933-94a4-c350ae42429c",
   "metadata": {},
   "outputs": [
    {
     "data": {
      "text/plain": [
       "'dyeg'"
      ]
     },
     "execution_count": 70,
     "metadata": {},
     "output_type": "execute_result"
    }
   ],
   "source": [
    "x[-2]"
   ]
  },
  {
   "cell_type": "code",
   "execution_count": 72,
   "id": "aa640af5-f5f5-4250-949b-a989bb44526b",
   "metadata": {},
   "outputs": [
    {
     "data": {
      "text/plain": [
       "'skj'"
      ]
     },
     "execution_count": 72,
     "metadata": {},
     "output_type": "execute_result"
    }
   ],
   "source": [
    "x[-9]"
   ]
  },
  {
   "cell_type": "code",
   "execution_count": 74,
   "id": "14a0ecf7-4586-470a-a05c-ff9a7e00988b",
   "metadata": {},
   "outputs": [
    {
     "ename": "IndexError",
     "evalue": "list index out of range",
     "output_type": "error",
     "traceback": [
      "\u001b[1;31m---------------------------------------------------------------------------\u001b[0m",
      "\u001b[1;31mIndexError\u001b[0m                                Traceback (most recent call last)",
      "Cell \u001b[1;32mIn[74], line 1\u001b[0m\n\u001b[1;32m----> 1\u001b[0m x[\u001b[38;5;241m-\u001b[39m\u001b[38;5;241m10\u001b[39m]\n",
      "\u001b[1;31mIndexError\u001b[0m: list index out of range"
     ]
    }
   ],
   "source": [
    "x[-10] # again length of given list is 9 and we used reverse indexing so the max index is -9.\n",
    "# So the above input again shows the 'index error'."
   ]
  },
  {
   "cell_type": "code",
   "execution_count": 76,
   "id": "e61ae995-65d7-4927-92f3-757089dd9034",
   "metadata": {},
   "outputs": [
    {
     "data": {
      "text/plain": [
       "[45, 73, 65, 87, 26, 36, ['Sweety', 11, 'Nov', 2000]]"
      ]
     },
     "execution_count": 76,
     "metadata": {},
     "output_type": "execute_result"
    }
   ],
   "source": [
    "# display the output as 'Sweety',11,'Nov'\n",
    "o=[45,73,65,87,26,36,['Sweety',11,'Nov',2000]]\n",
    "o"
   ]
  },
  {
   "cell_type": "code",
   "execution_count": 78,
   "id": "bc5af6f0-752b-40df-80d2-3354444a0fa4",
   "metadata": {},
   "outputs": [
    {
     "data": {
      "text/plain": [
       "['Sweety', 11, 'Nov']"
      ]
     },
     "execution_count": 78,
     "metadata": {},
     "output_type": "execute_result"
    }
   ],
   "source": [
    "o[6][0:3]"
   ]
  },
  {
   "cell_type": "raw",
   "id": "15951112-0748-4608-a5bf-63c06c22e1ff",
   "metadata": {},
   "source": [
    "\n",
    " Here the list contains again a list but it is a single element of list 'o' and its index is 6 so if we want to find the index within the 6th index we have to give it in the saperate bracket. Here we want to find 3 elements of 6th index so we starts from 0 and end with 3.\n"
   ]
  },
  {
   "cell_type": "code",
   "execution_count": 80,
   "id": "cdf55e8a-e488-4172-a839-4c4494f3e7c3",
   "metadata": {},
   "outputs": [],
   "source": [
    "# Solve the same problem using reverse operator"
   ]
  },
  {
   "cell_type": "code",
   "execution_count": 82,
   "id": "7526af7b-83ce-48e3-935b-bd7c96eaa6b2",
   "metadata": {},
   "outputs": [
    {
     "data": {
      "text/plain": [
       "[45, 73, 65, 87, 26, 36, ['Sweety', 11, 'Nov', 2000]]"
      ]
     },
     "execution_count": 82,
     "metadata": {},
     "output_type": "execute_result"
    }
   ],
   "source": [
    "o"
   ]
  },
  {
   "cell_type": "code",
   "execution_count": 84,
   "id": "6649e0c4-51fa-4c09-812b-f8a753c57bef",
   "metadata": {},
   "outputs": [
    {
     "data": {
      "text/plain": [
       "['Sweety', 11, 'Nov']"
      ]
     },
     "execution_count": 84,
     "metadata": {},
     "output_type": "execute_result"
    }
   ],
   "source": [
    "o[-1][0:3]"
   ]
  },
  {
   "cell_type": "code",
   "execution_count": 86,
   "id": "eb622e1a-435e-487b-83ed-9728d460d912",
   "metadata": {},
   "outputs": [
    {
     "data": {
      "text/plain": [
       "['Sweety', 11, 'Nov']"
      ]
     },
     "execution_count": 86,
     "metadata": {},
     "output_type": "execute_result"
    }
   ],
   "source": [
    "o[-1][-4:-1]"
   ]
  },
  {
   "cell_type": "raw",
   "id": "24074401-6484-4e2e-94a4-6b19614a6164",
   "metadata": {},
   "source": [
    "Note: remember that in the indexing the last index is always excluded."
   ]
  },
  {
   "cell_type": "code",
   "execution_count": 88,
   "id": "45962b00-d541-4c64-a660-719166374e7e",
   "metadata": {},
   "outputs": [
    {
     "ename": "TypeError",
     "evalue": "'list' object is not callable",
     "output_type": "error",
     "traceback": [
      "\u001b[1;31m---------------------------------------------------------------------------\u001b[0m",
      "\u001b[1;31mTypeError\u001b[0m                                 Traceback (most recent call last)",
      "Cell \u001b[1;32mIn[88], line 1\u001b[0m\n\u001b[1;32m----> 1\u001b[0m o(\u001b[38;5;241m7\u001b[39m)\n",
      "\u001b[1;31mTypeError\u001b[0m: 'list' object is not callable"
     ]
    }
   ],
   "source": [
    "o(7) # It will give the type error because the list elements are not callable."
   ]
  },
  {
   "cell_type": "code",
   "execution_count": 90,
   "id": "cb0fbd76-7894-4843-bc55-865b0c16e4fb",
   "metadata": {},
   "outputs": [
    {
     "data": {
      "text/plain": [
       "0"
      ]
     },
     "execution_count": 90,
     "metadata": {},
     "output_type": "execute_result"
    }
   ],
   "source": [
    "o.index(45)"
   ]
  },
  {
   "cell_type": "markdown",
   "id": "824e0e41-a2de-4b63-98db-eca051d50dac",
   "metadata": {},
   "source": [
    "# Inserting value at specific position"
   ]
  },
  {
   "cell_type": "code",
   "execution_count": 93,
   "id": "28bfb938-4ac8-46fa-945d-2c0e61061b88",
   "metadata": {},
   "outputs": [
    {
     "data": {
      "text/plain": [
       "[45, 73, 65, 87, 26, 36, ['Sweety', 11, 'Nov', 2000]]"
      ]
     },
     "execution_count": 93,
     "metadata": {},
     "output_type": "execute_result"
    }
   ],
   "source": [
    "o"
   ]
  },
  {
   "cell_type": "code",
   "execution_count": 95,
   "id": "1f54ac49-1a85-42d1-b8f8-8eed721443da",
   "metadata": {},
   "outputs": [],
   "source": [
    "# insert value 11 before the 26 in the given list"
   ]
  },
  {
   "cell_type": "code",
   "execution_count": 97,
   "id": "6f59c11a-0b93-4029-8332-ce98d2961b00",
   "metadata": {},
   "outputs": [
    {
     "data": {
      "text/plain": [
       "[45, 73, 65, 87, 11, 26, 36, ['Sweety', 11, 'Nov', 2000]]"
      ]
     },
     "execution_count": 97,
     "metadata": {},
     "output_type": "execute_result"
    }
   ],
   "source": [
    "o.insert(4,11)\n",
    "o"
   ]
  },
  {
   "cell_type": "raw",
   "id": "e9dc80e7-bb65-4b19-b584-7d37339f87e6",
   "metadata": {},
   "source": [
    "\n",
    "To insert any specific value in any position in the list just give the index where you want to\n",
    "add the new element and the element that you want to add to the 'insert' method.\n"
   ]
  },
  {
   "cell_type": "code",
   "execution_count": 99,
   "id": "558d9ff0-dfe3-4fb8-9128-2ee5a3ecbfa3",
   "metadata": {},
   "outputs": [
    {
     "data": {
      "text/plain": [
       "[45, 73, 65, 87, 11, 26, 36, 'Keshav', ['Sweety', 11, 'Nov', 2000]]"
      ]
     },
     "execution_count": 99,
     "metadata": {},
     "output_type": "execute_result"
    }
   ],
   "source": [
    "o.insert([7][0],'Keshav')\n",
    "o"
   ]
  },
  {
   "cell_type": "raw",
   "id": "bf1d30e1-c4be-4808-bffd-d0c01b05f33c",
   "metadata": {},
   "source": [
    "Here the 'Keshav' is added at the 7th position but we want add it before the 'Joshi'"
   ]
  },
  {
   "cell_type": "code",
   "execution_count": 101,
   "id": "fe4f98b1-2f43-4d75-9ab2-d1e90aec54ce",
   "metadata": {},
   "outputs": [
    {
     "data": {
      "text/plain": [
       "[45, 73, 65, 87, 11, 26, 36, 'Keshav', ['keshav', 'Sweety', 11, 'Nov', 2000]]"
      ]
     },
     "execution_count": 101,
     "metadata": {},
     "output_type": "execute_result"
    }
   ],
   "source": [
    "o[8].insert(0,'keshav')\n",
    "o"
   ]
  },
  {
   "cell_type": "raw",
   "id": "b59d7a59-2fa3-48db-a0aa-ba4b6877f4a6",
   "metadata": {},
   "source": [
    "\n",
    " So from the above example it is cleared that if you want to add any element or object in the list of list then first you have to give the index of the list which is the part of another list and then use the insert method.\n"
   ]
  },
  {
   "cell_type": "code",
   "execution_count": 103,
   "id": "4258fc86-b7a0-43b0-88e7-69e7f57ff48b",
   "metadata": {},
   "outputs": [],
   "source": [
    "# add Dhas after the Sweety in the given list"
   ]
  },
  {
   "cell_type": "code",
   "execution_count": 105,
   "id": "f73bb569-4e27-455d-9b52-fa29fc11b15a",
   "metadata": {},
   "outputs": [
    {
     "data": {
      "text/plain": [
       "[45, 73, 65, 87, 11, 26, 36, 'Keshav', ['keshav', 'Sweety', 11, 'Nov', 2000]]"
      ]
     },
     "execution_count": 105,
     "metadata": {},
     "output_type": "execute_result"
    }
   ],
   "source": [
    "o # Calling the given list"
   ]
  },
  {
   "cell_type": "code",
   "execution_count": 107,
   "id": "c854c182-e13b-4ed5-b2c2-83906b2e50c3",
   "metadata": {},
   "outputs": [
    {
     "data": {
      "text/plain": [
       "7"
      ]
     },
     "execution_count": 107,
     "metadata": {},
     "output_type": "execute_result"
    }
   ],
   "source": [
    "o.index('Keshav') # finding the position of the list which is the part of another list"
   ]
  },
  {
   "cell_type": "code",
   "execution_count": 109,
   "id": "0c5d580d-034e-432c-bfb0-ede15194c84a",
   "metadata": {},
   "outputs": [
    {
     "data": {
      "text/plain": [
       "[45,\n",
       " 73,\n",
       " 65,\n",
       " 87,\n",
       " 11,\n",
       " 26,\n",
       " 36,\n",
       " 'Keshav',\n",
       " ['keshav', 'Sweety', 'Dhas', 11, 'Nov', 2000]]"
      ]
     },
     "execution_count": 109,
     "metadata": {},
     "output_type": "execute_result"
    }
   ],
   "source": [
    "o[8].insert(2,'Dhas') # inserting the 'Dhas' at the index '2' which is after the 'Sweety'.\n",
    "o"
   ]
  },
  {
   "cell_type": "markdown",
   "id": "348e09f1-129b-4ce8-833c-9e1d35c650f6",
   "metadata": {},
   "source": [
    "# Removing the element or object of list using 'pop'\n",
    "\n",
    "list.pop(index of object that you want to remove). If you give empty brackets then it automatically removes the last element or object."
   ]
  },
  {
   "cell_type": "code",
   "execution_count": 112,
   "id": "06c028c9-00e5-4055-9320-4bc30580c56f",
   "metadata": {},
   "outputs": [
    {
     "data": {
      "text/plain": [
       "['Sweety', 'Govind', 'Dhas', 11, 'Nov', 2000, 2001]"
      ]
     },
     "execution_count": 112,
     "metadata": {},
     "output_type": "execute_result"
    }
   ],
   "source": [
    "list=['Sweety','Govind','Dhas',11,'Nov',2000,2001]\n",
    "list"
   ]
  },
  {
   "cell_type": "code",
   "execution_count": 114,
   "id": "289d3590-ac98-4e5e-a8a2-e4b7748ae96a",
   "metadata": {},
   "outputs": [
    {
     "data": {
      "text/plain": [
       "['Sweety', 'Govind', 'Dhas', 11, 'Nov', 2000]"
      ]
     },
     "execution_count": 114,
     "metadata": {},
     "output_type": "execute_result"
    }
   ],
   "source": [
    "list.pop() # default pop index is last. i.e even if it is not given the index of last element\n",
    "# In the list it removes the last element if empty brackets are given.\n",
    "list"
   ]
  },
  {
   "cell_type": "code",
   "execution_count": 116,
   "id": "e84c3390-2c4a-4214-96d2-b3992914b7fd",
   "metadata": {},
   "outputs": [
    {
     "data": {
      "text/plain": [
       "['Sweety', 'Govind', 11, 'Nov', 2000]"
      ]
     },
     "execution_count": 116,
     "metadata": {},
     "output_type": "execute_result"
    }
   ],
   "source": [
    "list.pop(2) # the element having index 2 is get removed. \n",
    "list"
   ]
  },
  {
   "cell_type": "code",
   "execution_count": 118,
   "id": "9e3de270-e081-45d0-8399-76b2dde027ca",
   "metadata": {},
   "outputs": [
    {
     "ename": "TypeError",
     "evalue": "'str' object cannot be interpreted as an integer",
     "output_type": "error",
     "traceback": [
      "\u001b[1;31m---------------------------------------------------------------------------\u001b[0m",
      "\u001b[1;31mTypeError\u001b[0m                                 Traceback (most recent call last)",
      "Cell \u001b[1;32mIn[118], line 1\u001b[0m\n\u001b[1;32m----> 1\u001b[0m \u001b[38;5;28mlist\u001b[39m\u001b[38;5;241m.\u001b[39mpop(\u001b[38;5;124m'\u001b[39m\u001b[38;5;124mSweety\u001b[39m\u001b[38;5;124m'\u001b[39m)\n",
      "\u001b[1;31mTypeError\u001b[0m: 'str' object cannot be interpreted as an integer"
     ]
    }
   ],
   "source": [
    "list.pop('Sweety') # pop method works on indexing if you don't know the index of the element \n",
    "# that you want to remove then you can't use the 'pop'. It gives type error."
   ]
  },
  {
   "cell_type": "code",
   "execution_count": 120,
   "id": "ec790b42-31d6-43ce-b221-418a2773988f",
   "metadata": {},
   "outputs": [
    {
     "ename": "IndexError",
     "evalue": "pop index out of range",
     "output_type": "error",
     "traceback": [
      "\u001b[1;31m---------------------------------------------------------------------------\u001b[0m",
      "\u001b[1;31mIndexError\u001b[0m                                Traceback (most recent call last)",
      "Cell \u001b[1;32mIn[120], line 1\u001b[0m\n\u001b[1;32m----> 1\u001b[0m \u001b[38;5;28mlist\u001b[39m\u001b[38;5;241m.\u001b[39mpop(\u001b[38;5;241m100\u001b[39m) \u001b[38;5;66;03m# if the index which is not in the list is given then it gives the 'index error'\u001b[39;00m\n\u001b[0;32m      2\u001b[0m \u001b[38;5;66;03m# which tells us that the index is out of range.\u001b[39;00m\n\u001b[0;32m      3\u001b[0m \u001b[38;5;28mlist\u001b[39m\n",
      "\u001b[1;31mIndexError\u001b[0m: pop index out of range"
     ]
    }
   ],
   "source": [
    "list.pop(100) # if the index which is not in the list is given then it gives the 'index error'\n",
    "# which tells us that the index is out of range.\n",
    "list"
   ]
  },
  {
   "cell_type": "markdown",
   "id": "ccc682b4-3d10-4112-a78f-478f7c96b96a",
   "metadata": {},
   "source": [
    "# Using 'Remove'\n",
    "\n",
    "list.remove(object of list) this is the general representation of remove method. It does not works on the indexing. i.e if you want to remove object in the list then you must have to know the object. Lets see with an example."
   ]
  },
  {
   "cell_type": "code",
   "execution_count": 123,
   "id": "4a7c2282-e291-412f-b079-d92e071cbfc8",
   "metadata": {},
   "outputs": [
    {
     "data": {
      "text/plain": [
       "['abcd', 'efgh', 'ijkl', 'mnop', 'qrst', 'uvwx', 'hefd', 'ihtv', 'yzt']"
      ]
     },
     "execution_count": 123,
     "metadata": {},
     "output_type": "execute_result"
    }
   ],
   "source": [
    "list_11=['abcd','efgh','ijkl','mnop','qrst','uvwx','hefd','ihtv','yzt']\n",
    "list_11"
   ]
  },
  {
   "cell_type": "code",
   "execution_count": 125,
   "id": "34d7247b-b333-4a92-928a-0c05b9ee54e7",
   "metadata": {},
   "outputs": [
    {
     "ename": "TypeError",
     "evalue": "list.remove() takes exactly one argument (0 given)",
     "output_type": "error",
     "traceback": [
      "\u001b[1;31m---------------------------------------------------------------------------\u001b[0m",
      "\u001b[1;31mTypeError\u001b[0m                                 Traceback (most recent call last)",
      "Cell \u001b[1;32mIn[125], line 1\u001b[0m\n\u001b[1;32m----> 1\u001b[0m list_11\u001b[38;5;241m.\u001b[39mremove()\n",
      "\u001b[1;31mTypeError\u001b[0m: list.remove() takes exactly one argument (0 given)"
     ]
    }
   ],
   "source": [
    "list_11.remove() # here empty brackets are not allowesd because 'remove' needs the exact object\n",
    "# In the list that you want to remove. So the code gives the type error."
   ]
  },
  {
   "cell_type": "code",
   "execution_count": 127,
   "id": "63a157a3-f519-4515-922c-343fef8f41e2",
   "metadata": {},
   "outputs": [
    {
     "data": {
      "text/plain": [
       "['efgh', 'ijkl', 'mnop', 'qrst', 'uvwx', 'hefd', 'ihtv', 'yzt']"
      ]
     },
     "execution_count": 127,
     "metadata": {},
     "output_type": "execute_result"
    }
   ],
   "source": [
    "list_11.remove('abcd') # removes 'abcd' from the list\n",
    "list_11"
   ]
  },
  {
   "cell_type": "code",
   "execution_count": 129,
   "id": "2bd18549-c687-40fb-9669-fc96faa09f4f",
   "metadata": {},
   "outputs": [
    {
     "data": {
      "text/plain": [
       "['efgh', 'ijkl', 'qrst', 'uvwx', 'hefd', 'ihtv', 'yzt']"
      ]
     },
     "execution_count": 129,
     "metadata": {},
     "output_type": "execute_result"
    }
   ],
   "source": [
    "list_11.remove('mnop')\n",
    "list_11"
   ]
  },
  {
   "cell_type": "code",
   "execution_count": 131,
   "id": "e2d1d023-1081-4c2f-b0a0-fcde74d4efc1",
   "metadata": {},
   "outputs": [
    {
     "ename": "ValueError",
     "evalue": "list.remove(x): x not in list",
     "output_type": "error",
     "traceback": [
      "\u001b[1;31m---------------------------------------------------------------------------\u001b[0m",
      "\u001b[1;31mValueError\u001b[0m                                Traceback (most recent call last)",
      "Cell \u001b[1;32mIn[131], line 1\u001b[0m\n\u001b[1;32m----> 1\u001b[0m list_11\u001b[38;5;241m.\u001b[39mremove(\u001b[38;5;124m'\u001b[39m\u001b[38;5;124mklmg\u001b[39m\u001b[38;5;124m'\u001b[39m)\n",
      "\u001b[1;31mValueError\u001b[0m: list.remove(x): x not in list"
     ]
    }
   ],
   "source": [
    "list_11.remove('klmg') # if the object which is not in the list is given then it gives the\n",
    "# 'value error' that means the value is not in the list."
   ]
  },
  {
   "cell_type": "markdown",
   "id": "e195ac49-db10-40a7-b8db-a91c13e62ce4",
   "metadata": {},
   "source": [
    "# Reversing the list"
   ]
  },
  {
   "cell_type": "code",
   "execution_count": 134,
   "id": "d7095520-74f8-4630-b650-581fa5b1c923",
   "metadata": {},
   "outputs": [
    {
     "data": {
      "text/plain": [
       "['ks', 'ew', 'se', 'he', 'at', 'vy']"
      ]
     },
     "execution_count": 134,
     "metadata": {},
     "output_type": "execute_result"
    }
   ],
   "source": [
    "list_26=['ks','ew','se','he','at','vy']\n",
    "list_26"
   ]
  },
  {
   "cell_type": "code",
   "execution_count": 136,
   "id": "be99ca6b-a645-4f52-a481-f3aa68671891",
   "metadata": {},
   "outputs": [
    {
     "data": {
      "text/plain": [
       "['vy', 'at', 'he', 'se', 'ew', 'ks']"
      ]
     },
     "execution_count": 136,
     "metadata": {},
     "output_type": "execute_result"
    }
   ],
   "source": [
    "list_26.reverse() # reverse the objects of the list.\n",
    "list_26"
   ]
  },
  {
   "cell_type": "code",
   "execution_count": 138,
   "id": "f995901e-1c95-48eb-9288-24657de4acbf",
   "metadata": {},
   "outputs": [
    {
     "ename": "TypeError",
     "evalue": "list.reverse() takes no arguments (1 given)",
     "output_type": "error",
     "traceback": [
      "\u001b[1;31m---------------------------------------------------------------------------\u001b[0m",
      "\u001b[1;31mTypeError\u001b[0m                                 Traceback (most recent call last)",
      "Cell \u001b[1;32mIn[138], line 1\u001b[0m\n\u001b[1;32m----> 1\u001b[0m list_26\u001b[38;5;241m.\u001b[39mreverse(\u001b[38;5;241m4\u001b[39m)\n",
      "\u001b[1;31mTypeError\u001b[0m: list.reverse() takes no arguments (1 given)"
     ]
    }
   ],
   "source": [
    "list_26.reverse(4) # reverse() is a non argument method that means it does not need any\n",
    "# argument if you give it then it will shows the 'type error'."
   ]
  },
  {
   "cell_type": "markdown",
   "id": "9288ef3d-49c6-4992-ac8c-0c546dc0e395",
   "metadata": {},
   "source": [
    "# Count the number of occurences of itens in the list"
   ]
  },
  {
   "cell_type": "code",
   "execution_count": 141,
   "id": "56d469a2-553b-4727-b0ec-d6a8ed95bf0e",
   "metadata": {},
   "outputs": [
    {
     "data": {
      "text/plain": [
       "['one', 'two', 'three', 'four', 'five', 'six', 'seven', 'eight', 'nine', 'ten']"
      ]
     },
     "execution_count": 141,
     "metadata": {},
     "output_type": "execute_result"
    }
   ],
   "source": [
    "list_10=['one','two','three','four','five','six','seven','eight','nine','ten']\n",
    "list_10"
   ]
  },
  {
   "cell_type": "code",
   "execution_count": 143,
   "id": "ae7ed00e-693b-407a-9381-a5c548f5571f",
   "metadata": {},
   "outputs": [
    {
     "data": {
      "text/plain": [
       "1"
      ]
     },
     "execution_count": 143,
     "metadata": {},
     "output_type": "execute_result"
    }
   ],
   "source": [
    "list_10.count('one')"
   ]
  },
  {
   "cell_type": "code",
   "execution_count": 145,
   "id": "5009dde5-6741-498a-9660-977688cc9acf",
   "metadata": {},
   "outputs": [
    {
     "data": {
      "text/plain": [
       "['one',\n",
       " 'one',\n",
       " 'two',\n",
       " 'three',\n",
       " 'four',\n",
       " 'five',\n",
       " 'six',\n",
       " 'seven',\n",
       " 'eight',\n",
       " 'nine',\n",
       " 'ten']"
      ]
     },
     "execution_count": 145,
     "metadata": {},
     "output_type": "execute_result"
    }
   ],
   "source": [
    "list_10.insert(0,'one')\n",
    "list_10"
   ]
  },
  {
   "cell_type": "code",
   "execution_count": 147,
   "id": "a2a60bee-e20e-4ed7-aefa-2e4a54b896d3",
   "metadata": {},
   "outputs": [
    {
     "data": {
      "text/plain": [
       "2"
      ]
     },
     "execution_count": 147,
     "metadata": {},
     "output_type": "execute_result"
    }
   ],
   "source": [
    "list_10.count('one')"
   ]
  },
  {
   "cell_type": "code",
   "execution_count": 149,
   "id": "1a760eb8-9b1a-447e-b055-c5ca4af979a4",
   "metadata": {},
   "outputs": [
    {
     "data": {
      "text/plain": [
       "['one',\n",
       " 'one',\n",
       " 'one',\n",
       " 'two',\n",
       " 'three',\n",
       " 'four',\n",
       " 'five',\n",
       " 'six',\n",
       " 'seven',\n",
       " 'eight',\n",
       " 'nine',\n",
       " 'ten']"
      ]
     },
     "execution_count": 149,
     "metadata": {},
     "output_type": "execute_result"
    }
   ],
   "source": [
    "list_10.insert(2,'one')\n",
    "list_10"
   ]
  },
  {
   "cell_type": "code",
   "execution_count": 151,
   "id": "998b301c-3e3b-42e1-9af0-726060fd4dcf",
   "metadata": {},
   "outputs": [
    {
     "data": {
      "text/plain": [
       "3"
      ]
     },
     "execution_count": 151,
     "metadata": {},
     "output_type": "execute_result"
    }
   ],
   "source": [
    "list_10.count('one')"
   ]
  },
  {
   "cell_type": "code",
   "execution_count": 152,
   "id": "3867000e-8371-4382-a6d2-6f1ef76a142c",
   "metadata": {},
   "outputs": [
    {
     "ename": "TypeError",
     "evalue": "insert expected 2 arguments, got 3",
     "output_type": "error",
     "traceback": [
      "\u001b[1;31m---------------------------------------------------------------------------\u001b[0m",
      "\u001b[1;31mTypeError\u001b[0m                                 Traceback (most recent call last)",
      "Cell \u001b[1;32mIn[152], line 1\u001b[0m\n\u001b[1;32m----> 1\u001b[0m list_10\u001b[38;5;241m.\u001b[39minsert(\u001b[38;5;241m0\u001b[39m,\u001b[38;5;124m'\u001b[39m\u001b[38;5;124mSweety\u001b[39m\u001b[38;5;124m'\u001b[39m,\u001b[38;5;241m5\u001b[39m)\n",
      "\u001b[1;31mTypeError\u001b[0m: insert expected 2 arguments, got 3"
     ]
    }
   ],
   "source": [
    "list_10.insert(0,'Sweety',5) # i want to add 'Sweety' at 0th index but insert supports only two arguments\n",
    "# to add 'Sweety' 5 times at 0th place we can use loops."
   ]
  },
  {
   "cell_type": "markdown",
   "id": "6fc1dc7d-c63b-4e4f-a4f0-3cf7452809d8",
   "metadata": {},
   "source": [
    "# Sort\n",
    "\n",
    "list.sort().It will sort the list and the default order is accending."
   ]
  },
  {
   "cell_type": "code",
   "execution_count": 154,
   "id": "f444ffc3-9fcb-48b0-b8d7-abece5fe5af3",
   "metadata": {},
   "outputs": [
    {
     "data": {
      "text/plain": [
       "[54, 73, 56, 87, 83, 95, 59, 68]"
      ]
     },
     "execution_count": 154,
     "metadata": {},
     "output_type": "execute_result"
    }
   ],
   "source": [
    "list=[54,73,56,87,83,95,59,68]\n",
    "list"
   ]
  },
  {
   "cell_type": "code",
   "execution_count": 155,
   "id": "826b4609-c3df-4b1d-aa9c-eb5b52dd2d0f",
   "metadata": {},
   "outputs": [
    {
     "data": {
      "text/plain": [
       "[54, 56, 59, 68, 73, 83, 87, 95]"
      ]
     },
     "execution_count": 155,
     "metadata": {},
     "output_type": "execute_result"
    }
   ],
   "source": [
    "list.sort()\n",
    "list"
   ]
  },
  {
   "cell_type": "code",
   "execution_count": 156,
   "id": "38fc62ac-2c43-4e01-af14-2957e7fbc39f",
   "metadata": {},
   "outputs": [
    {
     "ename": "TypeError",
     "evalue": "'<' not supported between instances of 'int' and 'str'",
     "output_type": "error",
     "traceback": [
      "\u001b[1;31m---------------------------------------------------------------------------\u001b[0m",
      "\u001b[1;31mTypeError\u001b[0m                                 Traceback (most recent call last)",
      "Cell \u001b[1;32mIn[156], line 2\u001b[0m\n\u001b[0;32m      1\u001b[0m list_1\u001b[38;5;241m=\u001b[39m[\u001b[38;5;124m'\u001b[39m\u001b[38;5;124mSweety\u001b[39m\u001b[38;5;124m'\u001b[39m,\u001b[38;5;124m'\u001b[39m\u001b[38;5;124mKeshav\u001b[39m\u001b[38;5;124m'\u001b[39m,\u001b[38;5;124m'\u001b[39m\u001b[38;5;124mJoshi\u001b[39m\u001b[38;5;124m'\u001b[39m,\u001b[38;5;241m26\u001b[39m,\u001b[38;5;241m11\u001b[39m,\u001b[38;5;241m36\u001b[39m,\u001b[38;5;241m23\u001b[39m] \u001b[38;5;66;03m# sorting works only for similar data types.\u001b[39;00m\n\u001b[1;32m----> 2\u001b[0m list_1\u001b[38;5;241m.\u001b[39msort()\n\u001b[0;32m      3\u001b[0m list_1\n",
      "\u001b[1;31mTypeError\u001b[0m: '<' not supported between instances of 'int' and 'str'"
     ]
    }
   ],
   "source": [
    "list_1=['Sweety','Keshav','Joshi',26,11,36,23] # sorting works only for similar data types.\n",
    "list_1.sort()\n",
    "list_1"
   ]
  },
  {
   "cell_type": "code",
   "execution_count": 172,
   "id": "73f1b00f-4a2b-42de-98de-1ab49505dabd",
   "metadata": {},
   "outputs": [
    {
     "data": {
      "text/plain": [
       "['Joshi', 'Keshav', 'Sweety']"
      ]
     },
     "execution_count": 172,
     "metadata": {},
     "output_type": "execute_result"
    }
   ],
   "source": [
    "list_1=['Sweety','Keshav','Joshi']\n",
    "list_1.sort()\n",
    "list_1"
   ]
  },
  {
   "cell_type": "code",
   "execution_count": 157,
   "id": "44732e12-72b0-4df0-bfb4-efe41cdc2ea4",
   "metadata": {},
   "outputs": [
    {
     "data": {
      "text/plain": [
       "['11', '23', '26', '36', 'Joshi', 'Keshav', 'Sweety']"
      ]
     },
     "execution_count": 157,
     "metadata": {},
     "output_type": "execute_result"
    }
   ],
   "source": [
    "list_1=['Sweety','Keshav','Joshi','26','11','36','23'] # here all entries are string\n",
    "# therefore sorting works on it.\n",
    "list_1.sort()\n",
    "list_1"
   ]
  },
  {
   "cell_type": "markdown",
   "id": "8b2d33ff-f09c-402a-9265-e60326a51702",
   "metadata": {},
   "source": [
    "# Clear and delete the existing list.\n",
    "# list.clear() removes the all elements of list.\n",
    "# list.del() deletes the exising list."
   ]
  },
  {
   "cell_type": "code",
   "execution_count": 159,
   "id": "56bf0138-2d85-4a49-997a-b9a8f2b63ad4",
   "metadata": {},
   "outputs": [
    {
     "data": {
      "text/plain": [
       "['11', '23', '26', '36', 'Joshi', 'Keshav', 'Sweety']"
      ]
     },
     "execution_count": 159,
     "metadata": {},
     "output_type": "execute_result"
    }
   ],
   "source": [
    "list_1"
   ]
  },
  {
   "cell_type": "code",
   "execution_count": 160,
   "id": "fbb8fbb6-dcf7-4fc8-adc9-d6fc4c6d2a5d",
   "metadata": {},
   "outputs": [
    {
     "data": {
      "text/plain": [
       "[]"
      ]
     },
     "execution_count": 160,
     "metadata": {},
     "output_type": "execute_result"
    }
   ],
   "source": [
    "list_1.clear()\n",
    "list_1"
   ]
  },
  {
   "cell_type": "code",
   "execution_count": 169,
   "id": "516f4166-3ac8-43f5-ab6f-98022e14ad97",
   "metadata": {},
   "outputs": [
    {
     "ename": "NameError",
     "evalue": "name 'list_1' is not defined",
     "output_type": "error",
     "traceback": [
      "\u001b[1;31m---------------------------------------------------------------------------\u001b[0m",
      "\u001b[1;31mNameError\u001b[0m                                 Traceback (most recent call last)",
      "Cell \u001b[1;32mIn[169], line 2\u001b[0m\n\u001b[0;32m      1\u001b[0m \u001b[38;5;28;01mdel\u001b[39;00m list_1\n\u001b[1;32m----> 2\u001b[0m list_1\n",
      "\u001b[1;31mNameError\u001b[0m: name 'list_1' is not defined"
     ]
    }
   ],
   "source": [
    "del list_1\n",
    "list_1"
   ]
  },
  {
   "cell_type": "code",
   "execution_count": null,
   "id": "16c83bcc-8ead-428f-b2fe-98bb60dc6ada",
   "metadata": {},
   "outputs": [],
   "source": []
  },
  {
   "cell_type": "code",
   "execution_count": null,
   "id": "166e3734-43d2-408d-95a2-f35cf2a6eb74",
   "metadata": {},
   "outputs": [],
   "source": []
  }
 ],
 "metadata": {
  "kernelspec": {
   "display_name": "Python 3 (ipykernel)",
   "language": "python",
   "name": "python3"
  },
  "language_info": {
   "codemirror_mode": {
    "name": "ipython",
    "version": 3
   },
   "file_extension": ".py",
   "mimetype": "text/x-python",
   "name": "python",
   "nbconvert_exporter": "python",
   "pygments_lexer": "ipython3",
   "version": "3.12.4"
  }
 },
 "nbformat": 4,
 "nbformat_minor": 5
}
