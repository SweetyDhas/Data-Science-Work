{
 "cells": [
  {
   "cell_type": "markdown",
   "id": "6f956e13-f0ae-428a-b509-2b1764825dfe",
   "metadata": {},
   "source": [
    "# Tuples\n",
    "\n",
    "Tuples are used to store multiple items in a single variable.\n",
    "\n",
    "Tuple is one of 4 built-in data types in Python used to store collections of data, the other 3 are List, set, and Dictionary, all with different qualitis and usage.\n",
    "\n",
    "A tuple is a collection which is ordered and unchangeable.\n",
    "\n",
    "Tuple are written with round brackets."
   ]
  },
  {
   "cell_type": "code",
   "execution_count": 2,
   "id": "c44cac8d-00b5-4a45-9c86-e03dacabf060",
   "metadata": {},
   "outputs": [
    {
     "name": "stdout",
     "output_type": "stream",
     "text": [
      "(26, 11)\n"
     ]
    },
    {
     "data": {
      "text/plain": [
       "tuple"
      ]
     },
     "execution_count": 2,
     "metadata": {},
     "output_type": "execute_result"
    }
   ],
   "source": [
    "a=(26,11)\n",
    "print(a) \n",
    "type(a)"
   ]
  },
  {
   "cell_type": "code",
   "execution_count": 3,
   "id": "821d3456-a8f6-4b49-a36e-f716908ee8a1",
   "metadata": {},
   "outputs": [
    {
     "name": "stdout",
     "output_type": "stream",
     "text": [
      "('Sweety', 'Govind', 'Dhas', 11)\n"
     ]
    },
    {
     "data": {
      "text/plain": [
       "tuple"
      ]
     },
     "execution_count": 3,
     "metadata": {},
     "output_type": "execute_result"
    }
   ],
   "source": [
    "b=('Sweety','Govind','Dhas',11)\n",
    "print(b)\n",
    "type(b)"
   ]
  },
  {
   "cell_type": "markdown",
   "id": "b18438d1-1376-48c0-ad29-de6b0bd4c37f",
   "metadata": {},
   "source": [
    "# Access Tuple Items\n",
    "\n",
    "You can access tuple items by giving the index number, inside square brackets."
   ]
  },
  {
   "cell_type": "code",
   "execution_count": 5,
   "id": "0196d43c-809c-4eda-aa93-9960776a4534",
   "metadata": {},
   "outputs": [
    {
     "name": "stdout",
     "output_type": "stream",
     "text": [
      "('Sweety', 'Govind', 'Dhas', 11)\n"
     ]
    },
    {
     "data": {
      "text/plain": [
       "'Sweety'"
      ]
     },
     "execution_count": 5,
     "metadata": {},
     "output_type": "execute_result"
    }
   ],
   "source": [
    "print(b)\n",
    "b[0]"
   ]
  },
  {
   "cell_type": "code",
   "execution_count": 6,
   "id": "1a54cada-6980-42d9-821a-273b25101a0a",
   "metadata": {},
   "outputs": [
    {
     "data": {
      "text/plain": [
       "'Govind'"
      ]
     },
     "execution_count": 6,
     "metadata": {},
     "output_type": "execute_result"
    }
   ],
   "source": [
    "b[1]"
   ]
  },
  {
   "cell_type": "code",
   "execution_count": 7,
   "id": "e780ba47-5bf2-48b3-a345-a416322644ec",
   "metadata": {},
   "outputs": [
    {
     "data": {
      "text/plain": [
       "'Dhas'"
      ]
     },
     "execution_count": 7,
     "metadata": {},
     "output_type": "execute_result"
    }
   ],
   "source": [
    "b[2]"
   ]
  },
  {
   "cell_type": "code",
   "execution_count": 8,
   "id": "4a407292-3482-47e1-862d-497dfbe4ebc3",
   "metadata": {},
   "outputs": [
    {
     "data": {
      "text/plain": [
       "11"
      ]
     },
     "execution_count": 8,
     "metadata": {},
     "output_type": "execute_result"
    }
   ],
   "source": [
    "b[3]"
   ]
  },
  {
   "cell_type": "code",
   "execution_count": 9,
   "id": "7893211f-9cb0-471e-a988-b7ca5c594d29",
   "metadata": {},
   "outputs": [
    {
     "ename": "IndexError",
     "evalue": "tuple index out of range",
     "output_type": "error",
     "traceback": [
      "\u001b[1;31m---------------------------------------------------------------------------\u001b[0m",
      "\u001b[1;31mIndexError\u001b[0m                                Traceback (most recent call last)",
      "Cell \u001b[1;32mIn[9], line 1\u001b[0m\n\u001b[1;32m----> 1\u001b[0m b[\u001b[38;5;241m4\u001b[39m]\n",
      "\u001b[1;31mIndexError\u001b[0m: tuple index out of range"
     ]
    }
   ],
   "source": [
    "b[4]"
   ]
  },
  {
   "cell_type": "code",
   "execution_count": 16,
   "id": "85002076-6932-46c0-978c-cee2bfbae717",
   "metadata": {},
   "outputs": [
    {
     "name": "stdout",
     "output_type": "stream",
     "text": [
      "('Sweety', 'Govind', 'Dhas', 11)\n"
     ]
    },
    {
     "data": {
      "text/plain": [
       "('Sweety', 'Govind', 'Dhas', 11)"
      ]
     },
     "execution_count": 16,
     "metadata": {},
     "output_type": "execute_result"
    }
   ],
   "source": [
    "print(b)\n",
    "b[0:5]"
   ]
  },
  {
   "cell_type": "code",
   "execution_count": 18,
   "id": "1c01f470-9bfc-4d51-91d9-4300756bb92c",
   "metadata": {},
   "outputs": [
    {
     "data": {
      "text/plain": [
       "('Sweety', 'Govind', 'Dhas', 11)"
      ]
     },
     "execution_count": 18,
     "metadata": {},
     "output_type": "execute_result"
    }
   ],
   "source": [
    "b[:]"
   ]
  },
  {
   "cell_type": "markdown",
   "id": "7f0acd72-134b-4e74-b871-7a6408c39cb0",
   "metadata": {},
   "source": [
    "# Let's try the slicing is working or not on the tuple.\n",
    "\n",
    "in the slicing the arguments are, tuple[starting index : ending index : step]."
   ]
  },
  {
   "cell_type": "code",
   "execution_count": 21,
   "id": "2e528645-974a-4715-aff9-2d7674adb1cc",
   "metadata": {},
   "outputs": [
    {
     "data": {
      "text/plain": [
       "('Sweety', 'Dhas')"
      ]
     },
     "execution_count": 21,
     "metadata": {},
     "output_type": "execute_result"
    }
   ],
   "source": [
    "b[0:4:2]"
   ]
  },
  {
   "cell_type": "code",
   "execution_count": 23,
   "id": "7636a823-acc7-4c52-a619-2f36f6f4e69d",
   "metadata": {},
   "outputs": [
    {
     "name": "stdout",
     "output_type": "stream",
     "text": [
      "(26, 11)\n"
     ]
    },
    {
     "data": {
      "text/plain": [
       "(26,)"
      ]
     },
     "execution_count": 23,
     "metadata": {},
     "output_type": "execute_result"
    }
   ],
   "source": [
    "# Let's try another example\n",
    "print(a)\n",
    "a[0:2:2]"
   ]
  },
  {
   "cell_type": "markdown",
   "id": "5337c336-05da-4003-a614-8b5e45f0badb",
   "metadata": {},
   "source": [
    "# A tuple is a collection which is ordered and unchangeable."
   ]
  },
  {
   "cell_type": "code",
   "execution_count": 26,
   "id": "b2cecebe-5369-497e-956b-ae13e6caba18",
   "metadata": {},
   "outputs": [
    {
     "name": "stdout",
     "output_type": "stream",
     "text": [
      "('klmnop', 'dhjal', 'hwi', 'skj', 'sd11', 361, 231, 26, 6)\n"
     ]
    },
    {
     "data": {
      "text/plain": [
       "9"
      ]
     },
     "execution_count": 26,
     "metadata": {},
     "output_type": "execute_result"
    }
   ],
   "source": [
    "k=('klmnop','dhjal','hwi','skj','sd11',361,231,26,6)\n",
    "print(k)\n",
    "len(k)"
   ]
  },
  {
   "cell_type": "code",
   "execution_count": 28,
   "id": "74fa6ca3-9e44-40a4-87be-c40050246b3a",
   "metadata": {},
   "outputs": [
    {
     "ename": "AttributeError",
     "evalue": "'tuple' object has no attribute 'append'",
     "output_type": "error",
     "traceback": [
      "\u001b[1;31m---------------------------------------------------------------------------\u001b[0m",
      "\u001b[1;31mAttributeError\u001b[0m                            Traceback (most recent call last)",
      "Cell \u001b[1;32mIn[28], line 1\u001b[0m\n\u001b[1;32m----> 1\u001b[0m k\u001b[38;5;241m.\u001b[39mappend(\u001b[38;5;241m11\u001b[39m)\n",
      "\u001b[1;31mAttributeError\u001b[0m: 'tuple' object has no attribute 'append'"
     ]
    }
   ],
   "source": [
    "k.append(11)"
   ]
  },
  {
   "cell_type": "code",
   "execution_count": 30,
   "id": "9df3da3c-f7b3-40a6-b4a3-3db02e27e41b",
   "metadata": {},
   "outputs": [
    {
     "ename": "AttributeError",
     "evalue": "'tuple' object has no attribute 'insert'",
     "output_type": "error",
     "traceback": [
      "\u001b[1;31m---------------------------------------------------------------------------\u001b[0m",
      "\u001b[1;31mAttributeError\u001b[0m                            Traceback (most recent call last)",
      "Cell \u001b[1;32mIn[30], line 1\u001b[0m\n\u001b[1;32m----> 1\u001b[0m k\u001b[38;5;241m.\u001b[39minsert(\u001b[38;5;241m0\u001b[39m,\u001b[38;5;124m'\u001b[39m\u001b[38;5;124mKeshav\u001b[39m\u001b[38;5;124m'\u001b[39m)\n",
      "\u001b[1;31mAttributeError\u001b[0m: 'tuple' object has no attribute 'insert'"
     ]
    }
   ],
   "source": [
    "k.insert(0,'Keshav')"
   ]
  },
  {
   "cell_type": "code",
   "execution_count": 32,
   "id": "40193c67-20f8-4355-9e4e-96e2ebb6b354",
   "metadata": {},
   "outputs": [
    {
     "ename": "AttributeError",
     "evalue": "'tuple' object has no attribute 'extend'",
     "output_type": "error",
     "traceback": [
      "\u001b[1;31m---------------------------------------------------------------------------\u001b[0m",
      "\u001b[1;31mAttributeError\u001b[0m                            Traceback (most recent call last)",
      "Cell \u001b[1;32mIn[32], line 1\u001b[0m\n\u001b[1;32m----> 1\u001b[0m k\u001b[38;5;241m.\u001b[39mextend(\u001b[38;5;28mrange\u001b[39m(\u001b[38;5;241m3\u001b[39m))\n",
      "\u001b[1;31mAttributeError\u001b[0m: 'tuple' object has no attribute 'extend'"
     ]
    }
   ],
   "source": [
    "k.extend(range(3))"
   ]
  },
  {
   "cell_type": "raw",
   "id": "6a2b052a-db71-4ffb-98f0-20b5110bfbf6",
   "metadata": {},
   "source": [
    "\n",
    "The above all errors are due to the property of 'Tuple' data type. That is the 'Tuple' is immutable that means you cannot make changes in the tuple onece it is defined. \n",
    "There is one way to make changes in tuples which is, convert the tuple into lists and make changes in the list and after changes again convert that lists into tuples.\n"
   ]
  },
  {
   "cell_type": "code",
   "execution_count": 34,
   "id": "3ba23d42-c48b-4883-b464-49f06f8e82fc",
   "metadata": {},
   "outputs": [
    {
     "name": "stdout",
     "output_type": "stream",
     "text": [
      "('klmnop', 'dhjal', 'hwi', 'skj', 'sd11', 361, 231, 26, 6)\n",
      "['klmnop', 'dhjal', 'hwi', 'skj', 'sd11', 361, 231, 26, 6]\n"
     ]
    }
   ],
   "source": [
    "print(k)\n",
    "k=list(k)\n",
    "print(k)"
   ]
  },
  {
   "cell_type": "code",
   "execution_count": 36,
   "id": "082b2019-5bde-454e-a610-a98f7c898603",
   "metadata": {},
   "outputs": [
    {
     "data": {
      "text/plain": [
       "['klmnop', 'dhjal', 'hwi', 'skj', 'sd11', 361, 231, 26, 6, 11]"
      ]
     },
     "execution_count": 36,
     "metadata": {},
     "output_type": "execute_result"
    }
   ],
   "source": [
    "# now the tuple 'k' is converted into the list now you can make all the changes as per your\n",
    "# requirement.\n",
    "k.append(11)\n",
    "k"
   ]
  },
  {
   "cell_type": "code",
   "execution_count": 38,
   "id": "9c041d4a-18bb-474e-aea9-47c4aee459ad",
   "metadata": {},
   "outputs": [
    {
     "data": {
      "text/plain": [
       "['klmnop',\n",
       " 'dhjal',\n",
       " 'hwi',\n",
       " 'skj',\n",
       " 'sd11',\n",
       " 361,\n",
       " 231,\n",
       " 26,\n",
       " 6,\n",
       " 11,\n",
       " 'Sweety',\n",
       " 'Govind',\n",
       " 'Dhas',\n",
       " 11]"
      ]
     },
     "execution_count": 38,
     "metadata": {},
     "output_type": "execute_result"
    }
   ],
   "source": [
    "k.extend(b)\n",
    "k"
   ]
  },
  {
   "cell_type": "code",
   "execution_count": 40,
   "id": "9c624a29-a292-4202-8a7c-5ae0bff1178f",
   "metadata": {},
   "outputs": [
    {
     "data": {
      "text/plain": [
       "['klmnop',\n",
       " 'dhjal',\n",
       " 'hwi',\n",
       " 'skj',\n",
       " 'sd11',\n",
       " 361,\n",
       " 231,\n",
       " 26,\n",
       " 6,\n",
       " 11,\n",
       " 'Sweety',\n",
       " 'Govind',\n",
       " 'Dhas',\n",
       " 11,\n",
       " 0,\n",
       " 1,\n",
       " 2]"
      ]
     },
     "execution_count": 40,
     "metadata": {},
     "output_type": "execute_result"
    }
   ],
   "source": [
    "k.extend(range(3))\n",
    "k"
   ]
  },
  {
   "cell_type": "raw",
   "id": "a3591123-641a-46ee-b5a1-a31489f96a98",
   "metadata": {},
   "source": [
    "now convert the list into tuple if all changes are done"
   ]
  },
  {
   "cell_type": "code",
   "execution_count": 42,
   "id": "9c68d8ca-98f4-450e-a1b0-1901c9d36d8a",
   "metadata": {},
   "outputs": [
    {
     "name": "stdout",
     "output_type": "stream",
     "text": [
      "('klmnop', 'dhjal', 'hwi', 'skj', 'sd11', 361, 231, 26, 6, 11, 'Sweety', 'Govind', 'Dhas', 11, 0, 1, 2)\n"
     ]
    }
   ],
   "source": [
    "k=tuple(k)\n",
    "print(k)"
   ]
  },
  {
   "cell_type": "code",
   "execution_count": 44,
   "id": "0a19beb2-d8eb-4a24-9381-905acfff7eab",
   "metadata": {},
   "outputs": [
    {
     "data": {
      "text/plain": [
       "tuple"
      ]
     },
     "execution_count": 44,
     "metadata": {},
     "output_type": "execute_result"
    }
   ],
   "source": [
    "type(k)"
   ]
  },
  {
   "cell_type": "markdown",
   "id": "b3dde7b1-2148-45bf-9b7d-6bce38dcd9dc",
   "metadata": {},
   "source": [
    "# Unpacking a Tuple\n",
    "\n",
    "When we create a tuple, we normally assign values to it. This is called \"packing\" a tuple But, in Python, we are also allowed to extract the values back into variables.\n",
    "This is called \"Unpacking\""
   ]
  },
  {
   "cell_type": "code",
   "execution_count": 55,
   "id": "b929ab90-c17e-4af5-9c57-077bf548c908",
   "metadata": {},
   "outputs": [
    {
     "name": "stdout",
     "output_type": "stream",
     "text": [
      "('Sweety', 'Govind', 'Dhas', 2.3, 'Nov', 422, 'second', 2336, 11)\n"
     ]
    }
   ],
   "source": [
    "# Let's define the tuple that means we are doing packing of the values into the variable\n",
    "tuple_1=(\"Sweety\",\"Govind\",\"Dhas\",2.3,\"Nov\",422,\"second\",2336,11)\n",
    "print(tuple_1)"
   ]
  },
  {
   "cell_type": "code",
   "execution_count": 59,
   "id": "d71adf3d-250f-433d-90cf-943d3ad7fdea",
   "metadata": {},
   "outputs": [],
   "source": [
    "# Let's understand the unpacking of the tuple.\n",
    "(first_name, middle_name, last_name, float, month, int_422, num, int_2336, int_11)= tuple_1"
   ]
  },
  {
   "cell_type": "code",
   "execution_count": 61,
   "id": "3e9d5816-5b8e-4d3c-a3c5-b3dec4236c76",
   "metadata": {},
   "outputs": [
    {
     "name": "stdout",
     "output_type": "stream",
     "text": [
      "Sweety\n"
     ]
    }
   ],
   "source": [
    "# calling for the first_name\n",
    "print(first_name)"
   ]
  },
  {
   "cell_type": "code",
   "execution_count": 63,
   "id": "b3914d39-2899-4b5f-9bfa-969cb053e7a3",
   "metadata": {},
   "outputs": [
    {
     "name": "stdout",
     "output_type": "stream",
     "text": [
      "Govind\n"
     ]
    }
   ],
   "source": [
    "print(middle_name)"
   ]
  },
  {
   "cell_type": "code",
   "execution_count": 65,
   "id": "7918ccf6-7781-4476-a393-a7a9b81cc419",
   "metadata": {},
   "outputs": [
    {
     "name": "stdout",
     "output_type": "stream",
     "text": [
      "Nov\n"
     ]
    }
   ],
   "source": [
    "print(month)"
   ]
  },
  {
   "cell_type": "code",
   "execution_count": 67,
   "id": "9aa72193-048e-4059-b3cb-a41789b38863",
   "metadata": {},
   "outputs": [
    {
     "name": "stdout",
     "output_type": "stream",
     "text": [
      "11\n"
     ]
    }
   ],
   "source": [
    "print(int_11)"
   ]
  },
  {
   "cell_type": "markdown",
   "id": "b89a7423-d8cf-459e-8d4e-21deecc5b7be",
   "metadata": {},
   "source": [
    "# Join Two Tuples\n",
    "\n",
    "To join two or more tuples you can use the + operator"
   ]
  },
  {
   "cell_type": "code",
   "execution_count": 71,
   "id": "16f89ef1-7828-4658-92ee-7ad443d3ed6c",
   "metadata": {},
   "outputs": [
    {
     "name": "stdout",
     "output_type": "stream",
     "text": [
      "('Sweety', 'Govind', 'Dhas', 2.3, 'Nov', 422, 'second', 2336, 11)\n",
      "('poco', 'samsung', 'vivo', 'motorola', 'nokia', 'redmi', 'oppo', 'realme')\n"
     ]
    }
   ],
   "source": [
    "print(tuple_1)\n",
    "tuple_2=('poco','samsung','vivo','motorola','nokia','redmi','oppo','realme')\n",
    "print(tuple_2)"
   ]
  },
  {
   "cell_type": "code",
   "execution_count": 73,
   "id": "51a82fe9-b92e-42b3-b95c-05ab8028e20c",
   "metadata": {},
   "outputs": [
    {
     "name": "stdout",
     "output_type": "stream",
     "text": [
      "('Sweety', 'Govind', 'Dhas', 2.3, 'Nov', 422, 'second', 2336, 11, 'poco', 'samsung', 'vivo', 'motorola', 'nokia', 'redmi', 'oppo', 'realme')\n"
     ]
    }
   ],
   "source": [
    "print(tuple_1+tuple_2)"
   ]
  },
  {
   "cell_type": "markdown",
   "id": "3ccd9083-1572-4dc6-8a9d-2e8cf81016ba",
   "metadata": {},
   "source": [
    "# Multiply Tuples\n",
    "\n",
    "If you want to multiply the items of a tuple a given number of items, you can use the * operator. "
   ]
  },
  {
   "cell_type": "code",
   "execution_count": 76,
   "id": "eaf338e4-f0e9-4335-ad56-45dddea7c8dd",
   "metadata": {},
   "outputs": [
    {
     "name": "stdout",
     "output_type": "stream",
     "text": [
      "('poco', 'samsung', 'vivo', 'motorola', 'nokia', 'redmi', 'oppo', 'realme', 'poco', 'samsung', 'vivo', 'motorola', 'nokia', 'redmi', 'oppo', 'realme')\n"
     ]
    }
   ],
   "source": [
    "# it will prints the each element of given tuple twice.\n",
    "print(tuple_2*2) "
   ]
  },
  {
   "cell_type": "markdown",
   "id": "5557e932-371b-45fa-988b-7b31054e5132",
   "metadata": {},
   "source": [
    "# Tuple Methods\n",
    "\n",
    "Python has two built-in methods that you can use on tuples.\n",
    "\n",
    "  1.count(). Returns the number of times a specified value occurs in a tuple\n",
    "  2.index(). Searches the tuple for a specified value and returns the position of where it was found\n"
   ]
  },
  {
   "cell_type": "code",
   "execution_count": 85,
   "id": "da76393c-b703-40ab-a91b-ec24a7efbb8e",
   "metadata": {},
   "outputs": [
    {
     "data": {
      "text/plain": [
       "('poco', 'samsung', 'vivo', 'motorola', 'nokia', 'redmi', 'oppo', 'realme')"
      ]
     },
     "execution_count": 85,
     "metadata": {},
     "output_type": "execute_result"
    }
   ],
   "source": [
    "tuple_2"
   ]
  },
  {
   "cell_type": "code",
   "execution_count": 89,
   "id": "2d6a606f-081a-473d-b57e-fe4b35d1243f",
   "metadata": {},
   "outputs": [
    {
     "data": {
      "text/plain": [
       "1"
      ]
     },
     "execution_count": 89,
     "metadata": {},
     "output_type": "execute_result"
    }
   ],
   "source": [
    "tuple_2.count('poco')"
   ]
  },
  {
   "cell_type": "code",
   "execution_count": 91,
   "id": "4b1ece5d-92b8-4e7f-8146-752dee34c8f6",
   "metadata": {},
   "outputs": [
    {
     "data": {
      "text/plain": [
       "1"
      ]
     },
     "execution_count": 91,
     "metadata": {},
     "output_type": "execute_result"
    }
   ],
   "source": [
    "tuple_2.count('nokia')"
   ]
  },
  {
   "cell_type": "code",
   "execution_count": 93,
   "id": "09e4a45f-0d6e-4db9-be9b-852926f3f460",
   "metadata": {},
   "outputs": [
    {
     "data": {
      "text/plain": [
       "0"
      ]
     },
     "execution_count": 93,
     "metadata": {},
     "output_type": "execute_result"
    }
   ],
   "source": [
    "tuple_2.count('skj')"
   ]
  },
  {
   "cell_type": "code",
   "execution_count": 95,
   "id": "2eef58cf-9a79-4496-bf22-3da142f79944",
   "metadata": {},
   "outputs": [
    {
     "data": {
      "text/plain": [
       "2"
      ]
     },
     "execution_count": 95,
     "metadata": {},
     "output_type": "execute_result"
    }
   ],
   "source": [
    "tuple_2.index('vivo')"
   ]
  },
  {
   "cell_type": "code",
   "execution_count": 97,
   "id": "85571c4f-1fab-4175-a4b5-2bc23e57fbdf",
   "metadata": {},
   "outputs": [
    {
     "data": {
      "text/plain": [
       "3"
      ]
     },
     "execution_count": 97,
     "metadata": {},
     "output_type": "execute_result"
    }
   ],
   "source": [
    "tuple_2.index('motorola')"
   ]
  },
  {
   "cell_type": "code",
   "execution_count": 99,
   "id": "cf5c825a-fa84-45c2-865e-60108fc1bded",
   "metadata": {},
   "outputs": [
    {
     "ename": "AttributeError",
     "evalue": "'tuple' object has no attribute 'clear'",
     "output_type": "error",
     "traceback": [
      "\u001b[1;31m---------------------------------------------------------------------------\u001b[0m",
      "\u001b[1;31mAttributeError\u001b[0m                            Traceback (most recent call last)",
      "Cell \u001b[1;32mIn[99], line 1\u001b[0m\n\u001b[1;32m----> 1\u001b[0m tuple_2\u001b[38;5;241m.\u001b[39mclear()\n",
      "\u001b[1;31mAttributeError\u001b[0m: 'tuple' object has no attribute 'clear'"
     ]
    }
   ],
   "source": [
    "tuple_2.clear() # tuple does not supports the clear method."
   ]
  },
  {
   "cell_type": "code",
   "execution_count": 101,
   "id": "cf1746c5-0489-4fe6-989f-a460d078b412",
   "metadata": {},
   "outputs": [],
   "source": [
    "del tuple_2 # deleting tuple"
   ]
  },
  {
   "cell_type": "code",
   "execution_count": 103,
   "id": "97478fa1-7ff5-4db8-b1db-eed08d6c3719",
   "metadata": {},
   "outputs": [
    {
     "ename": "NameError",
     "evalue": "name 'tuple_2' is not defined",
     "output_type": "error",
     "traceback": [
      "\u001b[1;31m---------------------------------------------------------------------------\u001b[0m",
      "\u001b[1;31mNameError\u001b[0m                                 Traceback (most recent call last)",
      "Cell \u001b[1;32mIn[103], line 1\u001b[0m\n\u001b[1;32m----> 1\u001b[0m tuple_2\n",
      "\u001b[1;31mNameError\u001b[0m: name 'tuple_2' is not defined"
     ]
    }
   ],
   "source": [
    "tuple_2"
   ]
  },
  {
   "cell_type": "code",
   "execution_count": null,
   "id": "50d74c5b-9117-4c34-92e1-75e852f4fa3d",
   "metadata": {},
   "outputs": [],
   "source": []
  }
 ],
 "metadata": {
  "kernelspec": {
   "display_name": "Python 3 (ipykernel)",
   "language": "python",
   "name": "python3"
  },
  "language_info": {
   "codemirror_mode": {
    "name": "ipython",
    "version": 3
   },
   "file_extension": ".py",
   "mimetype": "text/x-python",
   "name": "python",
   "nbconvert_exporter": "python",
   "pygments_lexer": "ipython3",
   "version": "3.12.4"
  }
 },
 "nbformat": 4,
 "nbformat_minor": 5
}
