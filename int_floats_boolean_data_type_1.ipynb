{
 "cells": [
  {
   "cell_type": "raw",
   "id": "2eb59c9d-9b78-4d2c-88a2-ee1ba2604b45",
   "metadata": {},
   "source": [
    "In python the string data type represent the whole numbers data without fractional component."
   ]
  },
  {
   "cell_type": "markdown",
   "id": "11cfeca4-b961-45af-b726-31a82a646b33",
   "metadata": {},
   "source": [
    "# integer creation using user input"
   ]
  },
  {
   "cell_type": "code",
   "execution_count": 2,
   "id": "dd97cb33-334a-473c-904e-cb5b16eb6f1c",
   "metadata": {},
   "outputs": [
    {
     "name": "stdin",
     "output_type": "stream",
     "text": [
      "enter any number 3623\n"
     ]
    },
    {
     "data": {
      "text/plain": [
       "3623"
      ]
     },
     "execution_count": 2,
     "metadata": {},
     "output_type": "execute_result"
    }
   ],
   "source": [
    "a=int(input('enter any number'))\n",
    "a"
   ]
  },
  {
   "cell_type": "code",
   "execution_count": 3,
   "id": "c6a3b04b-77c1-403e-a8ed-fdfafbb2ec43",
   "metadata": {},
   "outputs": [
    {
     "data": {
      "text/plain": [
       "int"
      ]
     },
     "execution_count": 3,
     "metadata": {},
     "output_type": "execute_result"
    }
   ],
   "source": [
    "type(a)"
   ]
  },
  {
   "cell_type": "code",
   "execution_count": 4,
   "id": "3ecdc2a1-54e2-473f-bd48-4b7e7bcb4588",
   "metadata": {},
   "outputs": [
    {
     "name": "stdin",
     "output_type": "stream",
     "text": [
      "enter any number 26\n"
     ]
    },
    {
     "data": {
      "text/plain": [
       "'26'"
      ]
     },
     "execution_count": 4,
     "metadata": {},
     "output_type": "execute_result"
    }
   ],
   "source": [
    "b=input('enter any number')\n",
    "b"
   ]
  },
  {
   "cell_type": "code",
   "execution_count": 5,
   "id": "12164f0e-2733-4335-91f7-4ee11ed6e03c",
   "metadata": {},
   "outputs": [
    {
     "data": {
      "text/plain": [
       "str"
      ]
     },
     "execution_count": 5,
     "metadata": {},
     "output_type": "execute_result"
    }
   ],
   "source": [
    "type(b)"
   ]
  },
  {
   "cell_type": "code",
   "execution_count": 6,
   "id": "dc8333ba-4adb-4705-bc5e-6d84f84709b8",
   "metadata": {},
   "outputs": [
    {
     "name": "stdin",
     "output_type": "stream",
     "text": [
      "enter any number 11\n"
     ]
    }
   ],
   "source": [
    "c=input('enter any number')"
   ]
  },
  {
   "cell_type": "code",
   "execution_count": 7,
   "id": "3a7db1fa-6517-4f18-ab20-fe2d5f66e741",
   "metadata": {},
   "outputs": [
    {
     "data": {
      "text/plain": [
       "str"
      ]
     },
     "execution_count": 7,
     "metadata": {},
     "output_type": "execute_result"
    }
   ],
   "source": [
    "type(c)"
   ]
  },
  {
   "cell_type": "raw",
   "id": "785b3f05-0751-4087-b10b-cc8ffb667e42",
   "metadata": {},
   "source": [
    "# From above output it is clear that the user input function give default string data type\n",
    "if we need integer data we have to convert it into integer by using 'int()' ."
   ]
  },
  {
   "cell_type": "code",
   "execution_count": 8,
   "id": "4feba283-d627-47a3-95b7-3d9ba7923d35",
   "metadata": {},
   "outputs": [
    {
     "data": {
      "text/plain": [
       "26"
      ]
     },
     "execution_count": 8,
     "metadata": {},
     "output_type": "execute_result"
    }
   ],
   "source": [
    "b=int(b)\n",
    "b"
   ]
  },
  {
   "cell_type": "code",
   "execution_count": 9,
   "id": "01512be8-07b8-48b4-a3db-a357418d808d",
   "metadata": {},
   "outputs": [
    {
     "data": {
      "text/plain": [
       "int"
      ]
     },
     "execution_count": 9,
     "metadata": {},
     "output_type": "execute_result"
    }
   ],
   "source": [
    "type(b)"
   ]
  },
  {
   "cell_type": "markdown",
   "id": "38cdbf78-d49f-4626-87ae-e6e431b7b26f",
   "metadata": {},
   "source": [
    "# Basic Arithmatic Operations"
   ]
  },
  {
   "cell_type": "code",
   "execution_count": 11,
   "id": "d2741628-ae61-4aa0-876a-cef3752d26d9",
   "metadata": {},
   "outputs": [
    {
     "name": "stdin",
     "output_type": "stream",
     "text": [
      "enter first number 26\n",
      "enter second number 11\n"
     ]
    },
    {
     "data": {
      "text/plain": [
       "37"
      ]
     },
     "execution_count": 11,
     "metadata": {},
     "output_type": "execute_result"
    }
   ],
   "source": [
    "#  Addition\n",
    "\n",
    "q=int(input('enter first number'))\n",
    "w=int(input('enter second number'))\n",
    "e=q+w\n",
    "e"
   ]
  },
  {
   "cell_type": "code",
   "execution_count": 12,
   "id": "a30a9811-683d-4384-9ef6-ce66cb13febf",
   "metadata": {},
   "outputs": [
    {
     "name": "stdin",
     "output_type": "stream",
     "text": [
      "enter first number 26\n",
      "enter second number 11\n"
     ]
    },
    {
     "data": {
      "text/plain": [
       "15"
      ]
     },
     "execution_count": 12,
     "metadata": {},
     "output_type": "execute_result"
    }
   ],
   "source": [
    "#  Substraction\n",
    "\n",
    "r=int(input('enter first number'))\n",
    "t=int(input('enter second number'))\n",
    "p=r-t\n",
    "p"
   ]
  },
  {
   "cell_type": "code",
   "execution_count": 13,
   "id": "db5a0608-ca65-4f78-8355-7d9e12cce0fe",
   "metadata": {},
   "outputs": [
    {
     "name": "stdin",
     "output_type": "stream",
     "text": [
      "enter first number 26\n",
      "enter second number 11\n"
     ]
    },
    {
     "data": {
      "text/plain": [
       "286"
      ]
     },
     "execution_count": 13,
     "metadata": {},
     "output_type": "execute_result"
    }
   ],
   "source": [
    "#  Multiplication\n",
    "\n",
    "y=int(input('enter first number'))\n",
    "u=int(input('enter second number'))\n",
    "i=y*u\n",
    "i"
   ]
  },
  {
   "cell_type": "code",
   "execution_count": 14,
   "id": "1312211c-d729-4ee9-a223-0601715944f4",
   "metadata": {},
   "outputs": [
    {
     "name": "stdin",
     "output_type": "stream",
     "text": [
      "enter any number 26\n",
      "enter second number 2\n"
     ]
    },
    {
     "data": {
      "text/plain": [
       "676"
      ]
     },
     "execution_count": 14,
     "metadata": {},
     "output_type": "execute_result"
    }
   ],
   "source": [
    "#  Power of number\n",
    "\n",
    "o=int(input('enter any number'))\n",
    "p=int(input('enter second number'))\n",
    "a=o**p\n",
    "a"
   ]
  },
  {
   "cell_type": "code",
   "execution_count": 15,
   "id": "7f363cff-073f-4995-a532-ecb188402318",
   "metadata": {},
   "outputs": [
    {
     "name": "stdin",
     "output_type": "stream",
     "text": [
      "enter any number 26\n",
      "enter any number 13\n"
     ]
    },
    {
     "data": {
      "text/plain": [
       "2.0"
      ]
     },
     "execution_count": 15,
     "metadata": {},
     "output_type": "execute_result"
    }
   ],
   "source": [
    "#  Devision\n",
    "\n",
    "s=int(input('enter any number'))\n",
    "k=int(input('enter any number'))\n",
    "j=s/k\n",
    "j"
   ]
  },
  {
   "cell_type": "code",
   "execution_count": 16,
   "id": "0afc6e37-1a48-4fe8-b452-7fc6b4c7a0b8",
   "metadata": {},
   "outputs": [
    {
     "name": "stdin",
     "output_type": "stream",
     "text": [
      "enter first number 35\n",
      "enter second number 5\n"
     ]
    },
    {
     "data": {
      "text/plain": [
       "0"
      ]
     },
     "execution_count": 16,
     "metadata": {},
     "output_type": "execute_result"
    }
   ],
   "source": [
    "#  Remainder\n",
    "\n",
    "g=int(input('enter first number'))\n",
    "h=int(input('enter second number'))\n",
    "f=g%h\n",
    "f"
   ]
  },
  {
   "cell_type": "code",
   "execution_count": 17,
   "id": "de7a06f0-12ca-41de-acac-c0df578c466a",
   "metadata": {},
   "outputs": [
    {
     "name": "stdin",
     "output_type": "stream",
     "text": [
      "enter first number 11\n",
      "enter second number 2\n"
     ]
    },
    {
     "data": {
      "text/plain": [
       "5"
      ]
     },
     "execution_count": 17,
     "metadata": {},
     "output_type": "execute_result"
    }
   ],
   "source": [
    "#  Quotiont\n",
    "\n",
    "k=int(input('enter first number'))\n",
    "s=int(input('enter second number'))\n",
    "d=k//s\n",
    "d"
   ]
  },
  {
   "cell_type": "code",
   "execution_count": 18,
   "id": "174bd453-4826-409a-b5c4-eb10838c9d10",
   "metadata": {},
   "outputs": [
    {
     "name": "stdin",
     "output_type": "stream",
     "text": [
      "enter first number 26\n",
      "enter second number 11\n"
     ]
    },
    {
     "data": {
      "text/plain": [
       "True"
      ]
     },
     "execution_count": 18,
     "metadata": {},
     "output_type": "execute_result"
    }
   ],
   "source": [
    "#  Greater than , less than operations\n",
    "\n",
    "c=int(input('enter first number'))\n",
    "v=int(input('enter second number'))\n",
    "b=c>v\n",
    "b"
   ]
  },
  {
   "cell_type": "code",
   "execution_count": 19,
   "id": "a2619d2a-ee2b-4601-823a-947716ba8683",
   "metadata": {},
   "outputs": [
    {
     "name": "stdin",
     "output_type": "stream",
     "text": [
      "enter first number 26\n",
      "enter second number 11\n"
     ]
    },
    {
     "data": {
      "text/plain": [
       "False"
      ]
     },
     "execution_count": 19,
     "metadata": {},
     "output_type": "execute_result"
    }
   ],
   "source": [
    "n=int(input('enter first number'))\n",
    "m=int(input('enter second number'))\n",
    "qd=n<m\n",
    "qd"
   ]
  },
  {
   "cell_type": "code",
   "execution_count": 39,
   "id": "d91bf025-6ec4-48e4-9b80-d054ce4479f2",
   "metadata": {},
   "outputs": [
    {
     "name": "stdin",
     "output_type": "stream",
     "text": [
      "enter first number 26\n",
      "enter second number 11\n"
     ]
    },
    {
     "data": {
      "text/plain": [
       "False"
      ]
     },
     "execution_count": 39,
     "metadata": {},
     "output_type": "execute_result"
    }
   ],
   "source": [
    "#  Checking equality\n",
    "we=int(input('enter first number'))\n",
    "er=int(input('enter second number'))\n",
    "rt=we==er\n",
    "rt"
   ]
  },
  {
   "cell_type": "code",
   "execution_count": 41,
   "id": "0031005e-bd51-40d9-9ea9-4f7d7edde8e1",
   "metadata": {},
   "outputs": [
    {
     "name": "stdin",
     "output_type": "stream",
     "text": [
      "enter first number 11\n",
      "enter second number 11\n"
     ]
    },
    {
     "data": {
      "text/plain": [
       "True"
      ]
     },
     "execution_count": 41,
     "metadata": {},
     "output_type": "execute_result"
    }
   ],
   "source": [
    "sd=int(input('enter first number'))\n",
    "kj=int(input('enter second number'))\n",
    "sk=sd==kj\n",
    "sk"
   ]
  },
  {
   "cell_type": "code",
   "execution_count": 43,
   "id": "eff12c24-d862-4fac-8807-eced6870fc00",
   "metadata": {},
   "outputs": [
    {
     "name": "stdin",
     "output_type": "stream",
     "text": [
      "enter first number 26\n",
      "enter second number 11\n"
     ]
    },
    {
     "data": {
      "text/plain": [
       "True"
      ]
     },
     "execution_count": 43,
     "metadata": {},
     "output_type": "execute_result"
    }
   ],
   "source": [
    "#  Checking inequality\n",
    "sk=int(input('enter first number'))\n",
    "sj=int(input('enter second number'))\n",
    "skj=sk!=sj\n",
    "skj"
   ]
  },
  {
   "cell_type": "markdown",
   "id": "ad1a45b8-8399-456c-b4a6-234477416b2c",
   "metadata": {},
   "source": [
    "# Logic gates for boolean data"
   ]
  },
  {
   "cell_type": "raw",
   "id": "3bf191bc-7dd4-460a-82e1-1cfcbe26c200",
   "metadata": {},
   "source": [
    "# Logic gates are used for the boolean data that is the data which is in the form of\n",
    "'Zero' and 'One' only\n",
    "So let us understand first the basic gates."
   ]
  },
  {
   "cell_type": "code",
   "execution_count": 52,
   "id": "1bc478a5-43ac-4184-b719-62fa77592dd7",
   "metadata": {},
   "outputs": [
    {
     "data": {
      "text/plain": [
       "0"
      ]
     },
     "execution_count": 52,
     "metadata": {},
     "output_type": "execute_result"
    }
   ],
   "source": [
    "# AND(&) gate. It needs all the values 'ONE' to get output 'ONE'. It is a multivariable gate\n",
    "a=0\n",
    "b=1\n",
    "c=a&b\n",
    "c"
   ]
  },
  {
   "cell_type": "code",
   "execution_count": 54,
   "id": "506f412c-35c3-414a-a225-78495ad8f4b8",
   "metadata": {},
   "outputs": [
    {
     "data": {
      "text/plain": [
       "0.0"
      ]
     },
     "execution_count": 54,
     "metadata": {},
     "output_type": "execute_result"
    }
   ],
   "source": [
    "# OR(/) gate. It needs at least single value 'ONE' to get output 'ONE'. It is a multivariable gate.\n",
    "a\n",
    "b\n",
    "a/b"
   ]
  },
  {
   "cell_type": "code",
   "execution_count": 56,
   "id": "cc609c0e-1f6c-4f93-85d8-8258f91fc983",
   "metadata": {},
   "outputs": [
    {
     "data": {
      "text/plain": [
       "1"
      ]
     },
     "execution_count": 56,
     "metadata": {},
     "output_type": "execute_result"
    }
   ],
   "source": [
    "# XOR(^) gate. It gives 'ONE' in output when only single value is 'ONE' if both values are\n",
    "# either 'ONE' or 'ZERO' the output will be zero. It is a multivariable gate.\n",
    "a^b"
   ]
  },
  {
   "cell_type": "code",
   "execution_count": 58,
   "id": "a5dfce1d-9b3e-43ed-bce6-bb313bcb9f31",
   "metadata": {},
   "outputs": [
    {
     "data": {
      "text/plain": [
       "-2"
      ]
     },
     "execution_count": 58,
     "metadata": {},
     "output_type": "execute_result"
    }
   ],
   "source": [
    "# NOT gate (~). It is a complementry gate that means if you give 'ONE' in input\n",
    "# you will gate 'ZERO' in the output and viceversa. It is a single variable gate. It gives\n",
    "# result in 'int' from\n",
    "k=1\n",
    "~k"
   ]
  },
  {
   "cell_type": "markdown",
   "id": "a8420bdc-d973-4bdf-ad17-6c1beaad1c15",
   "metadata": {},
   "source": [
    "# Float Data"
   ]
  },
  {
   "cell_type": "raw",
   "id": "6db0369e-003d-4f5c-b140-e7cf76dfcfef",
   "metadata": {},
   "source": [
    "# in python the string data type represent the whole munbers data with fractonal component.\n",
    "# you can do all the arithmatic operations on float like int."
   ]
  },
  {
   "cell_type": "code",
   "execution_count": 61,
   "id": "a96a0de0-ece8-46d0-948a-985d1a43c4c2",
   "metadata": {},
   "outputs": [
    {
     "name": "stdin",
     "output_type": "stream",
     "text": [
      "enter your height 155\n"
     ]
    },
    {
     "data": {
      "text/plain": [
       "float"
      ]
     },
     "execution_count": 61,
     "metadata": {},
     "output_type": "execute_result"
    }
   ],
   "source": [
    "height=float(input('enter your height'))\n",
    "height\n",
    "type(height)"
   ]
  },
  {
   "cell_type": "markdown",
   "id": "18a24571-d174-45f3-8ee1-f92b55d47922",
   "metadata": {},
   "source": [
    "# Built in function for 'int' and 'float'"
   ]
  },
  {
   "cell_type": "code",
   "execution_count": 64,
   "id": "d0b5ec14-2d42-4da8-bf1c-53cbc307af56",
   "metadata": {},
   "outputs": [
    {
     "name": "stdin",
     "output_type": "stream",
     "text": [
      "Enter any number 11.26\n"
     ]
    },
    {
     "data": {
      "text/plain": [
       "11"
      ]
     },
     "execution_count": 64,
     "metadata": {},
     "output_type": "execute_result"
    }
   ],
   "source": [
    "# round() this function coverts the float into the nearest int.\n",
    "a=float(input('Enter any number'))\n",
    "b=round(a)\n",
    "b"
   ]
  },
  {
   "cell_type": "code",
   "execution_count": 66,
   "id": "b59a64c1-03ee-45dc-b811-f0a63ff67463",
   "metadata": {},
   "outputs": [
    {
     "name": "stdin",
     "output_type": "stream",
     "text": [
      "enter any number 155.75\n"
     ]
    },
    {
     "data": {
      "text/plain": [
       "156"
      ]
     },
     "execution_count": 66,
     "metadata": {},
     "output_type": "execute_result"
    }
   ],
   "source": [
    "c=float(input('enter any number'))\n",
    "d=round(c)\n",
    "d"
   ]
  },
  {
   "cell_type": "code",
   "execution_count": 68,
   "id": "960af4d8-22d6-4a45-91f1-5a267b55612e",
   "metadata": {},
   "outputs": [
    {
     "name": "stdin",
     "output_type": "stream",
     "text": [
      "enter any number -26\n"
     ]
    },
    {
     "data": {
      "text/plain": [
       "26"
      ]
     },
     "execution_count": 68,
     "metadata": {},
     "output_type": "execute_result"
    }
   ],
   "source": [
    "# abs() this function the absolute value of the integer.\n",
    "e=int(input('enter any number'))\n",
    "abs(e)"
   ]
  },
  {
   "cell_type": "code",
   "execution_count": 70,
   "id": "8fa67909-040f-42a4-aeb2-68d478475696",
   "metadata": {},
   "outputs": [
    {
     "data": {
      "text/plain": [
       "26"
      ]
     },
     "execution_count": 70,
     "metadata": {},
     "output_type": "execute_result"
    }
   ],
   "source": [
    "# abs()\n",
    "f=-26\n",
    "abs(f)"
   ]
  },
  {
   "cell_type": "raw",
   "id": "cff6cc43-fdd8-4464-8596-f5d2a18f181d",
   "metadata": {},
   "source": [
    "# abs() function does not work on user input when the user input is taken only as input()\n",
    "because in user input the default data type is string."
   ]
  },
  {
   "cell_type": "code",
   "execution_count": 72,
   "id": "d157f6a3-829e-4260-889f-25d411fa09bd",
   "metadata": {},
   "outputs": [
    {
     "name": "stdin",
     "output_type": "stream",
     "text": [
      "enter any number -11\n"
     ]
    },
    {
     "ename": "TypeError",
     "evalue": "bad operand type for abs(): 'str'",
     "output_type": "error",
     "traceback": [
      "\u001b[1;31m---------------------------------------------------------------------------\u001b[0m",
      "\u001b[1;31mTypeError\u001b[0m                                 Traceback (most recent call last)",
      "Cell \u001b[1;32mIn[72], line 2\u001b[0m\n\u001b[0;32m      1\u001b[0m n\u001b[38;5;241m=\u001b[39m\u001b[38;5;28minput\u001b[39m(\u001b[38;5;124m'\u001b[39m\u001b[38;5;124menter any number\u001b[39m\u001b[38;5;124m'\u001b[39m)\n\u001b[1;32m----> 2\u001b[0m \u001b[38;5;28mabs\u001b[39m(n)\n",
      "\u001b[1;31mTypeError\u001b[0m: bad operand type for abs(): 'str'"
     ]
    }
   ],
   "source": [
    "n=input('enter any number')\n",
    "abs(n)"
   ]
  },
  {
   "cell_type": "code",
   "execution_count": 76,
   "id": "9f43a868-5816-4d6b-9ebb-f526095584c7",
   "metadata": {},
   "outputs": [
    {
     "name": "stdin",
     "output_type": "stream",
     "text": [
      "enter first number 11\n",
      "enter second number 2\n"
     ]
    },
    {
     "data": {
      "text/plain": [
       "121"
      ]
     },
     "execution_count": 76,
     "metadata": {},
     "output_type": "execute_result"
    }
   ],
   "source": [
    "# pow() this function returns the power of the first number indexed by second number\n",
    "a=int(input('enter first number'))\n",
    "b=int(input('enter second number'))\n",
    "c=pow(a,b)\n",
    "c"
   ]
  },
  {
   "cell_type": "code",
   "execution_count": 82,
   "id": "5ffd4a75-aa97-4724-9513-99933d46aad3",
   "metadata": {},
   "outputs": [
    {
     "name": "stdin",
     "output_type": "stream",
     "text": [
      "enter first number 26\n",
      "enter second number 2\n"
     ]
    },
    {
     "data": {
      "text/plain": [
       "676"
      ]
     },
     "execution_count": 82,
     "metadata": {},
     "output_type": "execute_result"
    }
   ],
   "source": [
    "a=int(input('enter first number'))\n",
    "b=int(input('enter second number'))\n",
    "c=pow(a,b)\n",
    "c"
   ]
  },
  {
   "cell_type": "code",
   "execution_count": 84,
   "id": "71aa0ade-7ea4-44f3-886e-c7025d741e5b",
   "metadata": {},
   "outputs": [
    {
     "name": "stdin",
     "output_type": "stream",
     "text": [
      "enter any number 26\n",
      "enter any number 11\n"
     ]
    },
    {
     "data": {
      "text/plain": [
       "(2, 4)"
      ]
     },
     "execution_count": 84,
     "metadata": {},
     "output_type": "execute_result"
    }
   ],
   "source": [
    "# divmod() this function returns the tuple containing the value pf quotiont and ramainder\n",
    "# by dividing the two integers.\n",
    "s=int(input('enter any number'))\n",
    "k=int(input('enter any number'))\n",
    "j=divmod(s,k)\n",
    "j"
   ]
  },
  {
   "cell_type": "code",
   "execution_count": 86,
   "id": "147863e1-1556-4ad7-96f7-7c3614465912",
   "metadata": {},
   "outputs": [
    {
     "name": "stdin",
     "output_type": "stream",
     "text": [
      "enter any number 24\n",
      "enter any number 2\n"
     ]
    },
    {
     "data": {
      "text/plain": [
       "(12, 0)"
      ]
     },
     "execution_count": 86,
     "metadata": {},
     "output_type": "execute_result"
    }
   ],
   "source": [
    "p=int(input('enter any number'))\n",
    "q=int(input('enter any number'))\n",
    "m=divmod(p,q)\n",
    "m"
   ]
  },
  {
   "cell_type": "code",
   "execution_count": 90,
   "id": "278d6f87-791d-405b-9340-058a1f1aadee",
   "metadata": {},
   "outputs": [
    {
     "name": "stdin",
     "output_type": "stream",
     "text": [
      "enter first number 11\n",
      "enter second number 11.36\n",
      "enter third number 26\n",
      "enter fourth number 26.23\n"
     ]
    },
    {
     "name": "stdout",
     "output_type": "stream",
     "text": [
      "26.23\n",
      "11\n"
     ]
    }
   ],
   "source": [
    "# max() and min() which gives the maximum and minimum number from the given numbers.\n",
    "a=int(input('enter first number'))\n",
    "b=float(input('enter second number'))\n",
    "c=int(input('enter third number'))\n",
    "d=float(input('enter fourth number'))\n",
    "e=max(a,b,c,d)\n",
    "print(e)\n",
    "f=min(a,b,c,d)\n",
    "print(f)"
   ]
  },
  {
   "cell_type": "code",
   "execution_count": null,
   "id": "34393190-79ee-4d66-8d79-0f759ed3765a",
   "metadata": {},
   "outputs": [],
   "source": []
  }
 ],
 "metadata": {
  "kernelspec": {
   "display_name": "Python 3 (ipykernel)",
   "language": "python",
   "name": "python3"
  },
  "language_info": {
   "codemirror_mode": {
    "name": "ipython",
    "version": 3
   },
   "file_extension": ".py",
   "mimetype": "text/x-python",
   "name": "python",
   "nbconvert_exporter": "python",
   "pygments_lexer": "ipython3",
   "version": "3.12.4"
  }
 },
 "nbformat": 4,
 "nbformat_minor": 5
}
