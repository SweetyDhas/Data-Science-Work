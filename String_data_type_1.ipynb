{
 "cells": [
  {
   "cell_type": "raw",
   "id": "117d12f2-5acf-455c-938d-4f9c7e1e34e3",
   "metadata": {},
   "source": [
    "In python the string data type (str) is used to represent text. \n",
    "Strings are created by enclosing text in single quotes(''), or \n",
    "double quotes(\"\"), or triple quotes(\"\"\"\"\"\")"
   ]
  },
  {
   "cell_type": "markdown",
   "id": "8213ddd7-238a-4e0a-9f1b-249c370f2648",
   "metadata": {},
   "source": [
    "# String Creation"
   ]
  },
  {
   "cell_type": "code",
   "execution_count": 2,
   "id": "4bbe7b6f-799e-4319-8c93-de1feb1c4efa",
   "metadata": {},
   "outputs": [
    {
     "data": {
      "text/plain": [
       "'Sweety Govind Dhas'"
      ]
     },
     "execution_count": 2,
     "metadata": {},
     "output_type": "execute_result"
    }
   ],
   "source": [
    "name=\"Sweety Govind Dhas\"\n",
    "name"
   ]
  },
  {
   "cell_type": "code",
   "execution_count": 3,
   "id": "f74255ae-d756-4aaf-a568-c48597d1a49b",
   "metadata": {},
   "outputs": [
    {
     "data": {
      "text/plain": [
       "'Student'"
      ]
     },
     "execution_count": 3,
     "metadata": {},
     "output_type": "execute_result"
    }
   ],
   "source": [
    "about='Student'\n",
    "about"
   ]
  },
  {
   "cell_type": "code",
   "execution_count": 4,
   "id": "44f18bee-c2ed-47dc-9be2-70423574f414",
   "metadata": {},
   "outputs": [
    {
     "data": {
      "text/plain": [
       "'Keshav'"
      ]
     },
     "execution_count": 4,
     "metadata": {},
     "output_type": "execute_result"
    }
   ],
   "source": [
    "friend=\"\"\"Keshav\"\"\"\n",
    "friend"
   ]
  },
  {
   "cell_type": "code",
   "execution_count": 5,
   "id": "77acf365-63bd-4cfc-abc5-42ec7f3daa72",
   "metadata": {},
   "outputs": [
    {
     "data": {
      "text/plain": [
       "str"
      ]
     },
     "execution_count": 5,
     "metadata": {},
     "output_type": "execute_result"
    }
   ],
   "source": [
    "type(name)"
   ]
  },
  {
   "cell_type": "code",
   "execution_count": 6,
   "id": "ba096d1a-9751-4ee6-8fc4-0131bdff0ba8",
   "metadata": {},
   "outputs": [
    {
     "data": {
      "text/plain": [
       "str"
      ]
     },
     "execution_count": 6,
     "metadata": {},
     "output_type": "execute_result"
    }
   ],
   "source": [
    "type(about)"
   ]
  },
  {
   "cell_type": "code",
   "execution_count": 7,
   "id": "d9e01779-bbde-471a-aac9-2c620b30aab9",
   "metadata": {},
   "outputs": [
    {
     "data": {
      "text/plain": [
       "str"
      ]
     },
     "execution_count": 7,
     "metadata": {},
     "output_type": "execute_result"
    }
   ],
   "source": [
    "type(friend)"
   ]
  },
  {
   "cell_type": "markdown",
   "id": "0deb2a05-6bba-4960-8595-789574a160d2",
   "metadata": {},
   "source": [
    "# Common String Operations"
   ]
  },
  {
   "cell_type": "raw",
   "id": "350fbba8-5526-4229-95db-eabdb02b6b84",
   "metadata": {},
   "source": [
    "# Concatenation\n",
    "# Combining two or more strings using '+' operator"
   ]
  },
  {
   "cell_type": "code",
   "execution_count": 9,
   "id": "b04c8457-b073-466c-8c1f-8fe710dde0cb",
   "metadata": {},
   "outputs": [
    {
     "name": "stdout",
     "output_type": "stream",
     "text": [
      "Sweety \n",
      "Dhas\n"
     ]
    }
   ],
   "source": [
    "first_name= 'Sweety '\n",
    "last_name= 'Dhas'\n",
    "print(first_name)\n",
    "print(last_name)"
   ]
  },
  {
   "cell_type": "code",
   "execution_count": 10,
   "id": "82d71fcf-927c-4972-9058-6cfa396eed4a",
   "metadata": {},
   "outputs": [
    {
     "data": {
      "text/plain": [
       "'Sweety Dhas'"
      ]
     },
     "execution_count": 10,
     "metadata": {},
     "output_type": "execute_result"
    }
   ],
   "source": [
    "full_name = first_name + last_name\n",
    "full_name"
   ]
  },
  {
   "cell_type": "code",
   "execution_count": 11,
   "id": "ec23689b-6fac-4c32-90db-c78ed87c5552",
   "metadata": {},
   "outputs": [
    {
     "name": "stdout",
     "output_type": "stream",
     "text": [
      "Sweety Dhas\n"
     ]
    }
   ],
   "source": [
    "full_name= first_name + last_name\n",
    "print(full_name)"
   ]
  },
  {
   "cell_type": "code",
   "execution_count": 12,
   "id": "66d8bc8c-0c8c-44dc-9222-6777c7b04723",
   "metadata": {},
   "outputs": [
    {
     "name": "stdout",
     "output_type": "stream",
     "text": [
      "he is very cute \n",
      "and also so smart\n"
     ]
    }
   ],
   "source": [
    "a= 'he is very cute '\n",
    "b= 'and also so smart'\n",
    "print(a)\n",
    "print(b)"
   ]
  },
  {
   "cell_type": "code",
   "execution_count": 13,
   "id": "82a20e29-fb0b-4f1d-8e1a-13900694f5e9",
   "metadata": {},
   "outputs": [
    {
     "name": "stdout",
     "output_type": "stream",
     "text": [
      "he is very cute and also so smart\n"
     ]
    }
   ],
   "source": [
    "a= 'he is very cute'\n",
    "b= 'and also so smart'\n",
    "print(a,b)"
   ]
  },
  {
   "cell_type": "code",
   "execution_count": 14,
   "id": "858077be-9cc8-4d62-961d-04026f0ea2d2",
   "metadata": {},
   "outputs": [
    {
     "data": {
      "text/plain": [
       "'he is very cuteand also so smart'"
      ]
     },
     "execution_count": 14,
     "metadata": {},
     "output_type": "execute_result"
    }
   ],
   "source": [
    "c= a+b\n",
    "c"
   ]
  },
  {
   "cell_type": "code",
   "execution_count": 15,
   "id": "0c5c2af2-dbdc-4382-9cde-d1ab44987096",
   "metadata": {},
   "outputs": [
    {
     "ename": "TypeError",
     "evalue": "unsupported operand type(s) for -: 'str' and 'str'",
     "output_type": "error",
     "traceback": [
      "\u001b[1;31m---------------------------------------------------------------------------\u001b[0m",
      "\u001b[1;31mTypeError\u001b[0m                                 Traceback (most recent call last)",
      "Cell \u001b[1;32mIn[15], line 1\u001b[0m\n\u001b[1;32m----> 1\u001b[0m c\u001b[38;5;241m=\u001b[39m a\u001b[38;5;241m-\u001b[39mb\n\u001b[0;32m      2\u001b[0m c\n",
      "\u001b[1;31mTypeError\u001b[0m: unsupported operand type(s) for -: 'str' and 'str'"
     ]
    }
   ],
   "source": [
    "c= a-b\n",
    "c"
   ]
  },
  {
   "cell_type": "raw",
   "id": "7b377454-0cdd-46ae-981d-c107470f503a",
   "metadata": {},
   "source": [
    "# Repetation\n",
    "# Repeating a string using the '*' operator"
   ]
  },
  {
   "cell_type": "code",
   "execution_count": 48,
   "id": "603412b6-13a4-458a-bb53-d2ac1bc887f2",
   "metadata": {},
   "outputs": [
    {
     "data": {
      "text/plain": [
       "'Hi Keshav Hi Keshav Hi Keshav Hi Keshav Hi Keshav Hi Keshav Hi Keshav Hi Keshav Hi Keshav Hi Keshav Hi Keshav Hi Keshav Hi Keshav Hi Keshav Hi Keshav Hi Keshav Hi Keshav Hi Keshav Hi Keshav Hi Keshav Hi Keshav Hi Keshav Hi Keshav Hi Keshav Hi Keshav Hi Keshav '"
      ]
     },
     "execution_count": 48,
     "metadata": {},
     "output_type": "execute_result"
    }
   ],
   "source": [
    "s='Hi Keshav '\n",
    "d=s*26\n",
    "d"
   ]
  },
  {
   "cell_type": "code",
   "execution_count": 50,
   "id": "3ba8cce1-2c2d-41de-8e45-04cb0dd6ecbc",
   "metadata": {},
   "outputs": [
    {
     "data": {
      "text/plain": [
       "'  Data Science    Data Science    Data Science    Data Science    Data Science    Data Science    Data Science    Data Science    Data Science    Data Science    Data Science  '"
      ]
     },
     "execution_count": 50,
     "metadata": {},
     "output_type": "execute_result"
    }
   ],
   "source": [
    "k='  Data Science  '\n",
    "j=k*11\n",
    "j"
   ]
  },
  {
   "cell_type": "raw",
   "id": "b1622ec1-a375-4fb4-8b5e-1472c1a2e380",
   "metadata": {},
   "source": [
    "# Indexing\n",
    "# Accesing a character at a specific position"
   ]
  },
  {
   "cell_type": "code",
   "execution_count": 52,
   "id": "6f801f86-2aed-4fe5-b452-d30d3ae71ece",
   "metadata": {},
   "outputs": [
    {
     "data": {
      "text/plain": [
       "'My name is Sweety Govind Dhas'"
      ]
     },
     "execution_count": 52,
     "metadata": {},
     "output_type": "execute_result"
    }
   ],
   "source": [
    "s= 'My name is Sweety Govind Dhas'\n",
    "s"
   ]
  },
  {
   "cell_type": "code",
   "execution_count": 54,
   "id": "9937b98c-1cb9-46ed-ba9d-69a9225e7aff",
   "metadata": {},
   "outputs": [
    {
     "data": {
      "text/plain": [
       "' '"
      ]
     },
     "execution_count": 54,
     "metadata": {},
     "output_type": "execute_result"
    }
   ],
   "source": [
    "s[2]"
   ]
  },
  {
   "cell_type": "code",
   "execution_count": 56,
   "id": "8c0b41d1-9488-4749-a213-98154f6c9442",
   "metadata": {},
   "outputs": [
    {
     "data": {
      "text/plain": [
       "'Sweety'"
      ]
     },
     "execution_count": 56,
     "metadata": {},
     "output_type": "execute_result"
    }
   ],
   "source": [
    "s[11:17]"
   ]
  },
  {
   "cell_type": "code",
   "execution_count": 58,
   "id": "9761a998-5901-4e06-8080-0480d1ff9368",
   "metadata": {},
   "outputs": [
    {
     "data": {
      "text/plain": [
       "'My name is Sweety Govind Dhas'"
      ]
     },
     "execution_count": 58,
     "metadata": {},
     "output_type": "execute_result"
    }
   ],
   "source": [
    "s[:100]"
   ]
  },
  {
   "cell_type": "code",
   "execution_count": 60,
   "id": "57261b95-d447-4823-ad61-f6d531759001",
   "metadata": {},
   "outputs": [
    {
     "data": {
      "text/plain": [
       "'My na'"
      ]
     },
     "execution_count": 60,
     "metadata": {},
     "output_type": "execute_result"
    }
   ],
   "source": [
    "s[:5]"
   ]
  },
  {
   "cell_type": "code",
   "execution_count": 62,
   "id": "d8bb9884-8805-46b6-967a-5cdd92dde73e",
   "metadata": {},
   "outputs": [
    {
     "data": {
      "text/plain": [
       "'My name is Sweety Govind Dhas'"
      ]
     },
     "execution_count": 62,
     "metadata": {},
     "output_type": "execute_result"
    }
   ],
   "source": [
    "s[:]"
   ]
  },
  {
   "cell_type": "raw",
   "id": "ca6062fd-3ccb-45ae-892a-803298f10d50",
   "metadata": {},
   "source": [
    "# if you want to print Sweety then give command s[11:17]\n",
    "# if you give s[11:16] it will exclude the last letter because in the indexing the last position\n",
    "# is excluded."
   ]
  },
  {
   "cell_type": "code",
   "execution_count": 64,
   "id": "4e9c38e7-e665-4570-9fc7-fb60f5875b0a",
   "metadata": {},
   "outputs": [
    {
     "data": {
      "text/plain": [
       "'Sweet'"
      ]
     },
     "execution_count": 64,
     "metadata": {},
     "output_type": "execute_result"
    }
   ],
   "source": [
    "s[11:16]"
   ]
  },
  {
   "cell_type": "code",
   "execution_count": 66,
   "id": "3cd113ff-bc5e-4ac6-b396-92e4be74b2d9",
   "metadata": {},
   "outputs": [
    {
     "data": {
      "text/plain": [
       "''"
      ]
     },
     "execution_count": 66,
     "metadata": {},
     "output_type": "execute_result"
    }
   ],
   "source": [
    "s[31:]"
   ]
  },
  {
   "cell_type": "code",
   "execution_count": 68,
   "id": "12b80a49-7e5d-4af9-b2cb-ad395a7fb0b6",
   "metadata": {},
   "outputs": [
    {
     "data": {
      "text/plain": [
       "'My name is Sweety Govind Dhas'"
      ]
     },
     "execution_count": 68,
     "metadata": {},
     "output_type": "execute_result"
    }
   ],
   "source": [
    "s[0:]"
   ]
  },
  {
   "cell_type": "raw",
   "id": "13d18c54-4f18-4a69-a905-77fd9170f7b8",
   "metadata": {},
   "source": [
    "# Length\n",
    "# Getting the number of characters in a string using the len() function."
   ]
  },
  {
   "cell_type": "code",
   "execution_count": 70,
   "id": "edfa4046-9c4b-4b81-a9d7-a8b9202fbf11",
   "metadata": {},
   "outputs": [
    {
     "data": {
      "text/plain": [
       "'My name is Sweety Govind Dhas'"
      ]
     },
     "execution_count": 70,
     "metadata": {},
     "output_type": "execute_result"
    }
   ],
   "source": [
    "s"
   ]
  },
  {
   "cell_type": "code",
   "execution_count": 72,
   "id": "d9e2d9ee-cf94-479f-a61e-e9c4c7b2af8f",
   "metadata": {},
   "outputs": [
    {
     "data": {
      "text/plain": [
       "29"
      ]
     },
     "execution_count": 72,
     "metadata": {},
     "output_type": "execute_result"
    }
   ],
   "source": [
    "length =len(s)\n",
    "length"
   ]
  },
  {
   "cell_type": "code",
   "execution_count": 74,
   "id": "8bbaab89-60ad-48aa-a0a9-fa52302356d4",
   "metadata": {},
   "outputs": [
    {
     "data": {
      "text/plain": [
       "29"
      ]
     },
     "execution_count": 74,
     "metadata": {},
     "output_type": "execute_result"
    }
   ],
   "source": [
    "len(s)"
   ]
  },
  {
   "cell_type": "markdown",
   "id": "4deefa41-91cd-4319-a93e-210fe01f1f23",
   "metadata": {},
   "source": [
    "# String Methods"
   ]
  },
  {
   "cell_type": "raw",
   "id": "939f7099-8f78-44d5-a775-6b0d924de3e1",
   "metadata": {},
   "source": [
    "1) str.lower() it converts all characters of a string into \n",
    "lowercase.\n",
    "\n",
    "2) str.upper() it converts all characters of a string into \n",
    "uppercase.\n",
    "\n",
    "3) str.capitalize() it capitalize the first letter of the given\n",
    "srting.\n",
    "\n",
    "4) str.title() it capitalize the first letter of each character\n",
    "of  given string.\n",
    "\n",
    "5)str.swapcase() swap the case of all characters i.e if character\n",
    "is in uppercase then it will be converted into lowercase and \n",
    "viceverca."
   ]
  },
  {
   "cell_type": "code",
   "execution_count": 77,
   "id": "b3db21a6-a9a2-4d27-850d-a7151a590407",
   "metadata": {},
   "outputs": [
    {
     "data": {
      "text/plain": [
       "'HI KESHAV'"
      ]
     },
     "execution_count": 77,
     "metadata": {},
     "output_type": "execute_result"
    }
   ],
   "source": [
    "a= 'HI KESHAV'\n",
    "a"
   ]
  },
  {
   "cell_type": "code",
   "execution_count": 79,
   "id": "0071b482-ca5a-4c30-b23f-207bad3dac97",
   "metadata": {},
   "outputs": [
    {
     "data": {
      "text/plain": [
       "'hi keshav'"
      ]
     },
     "execution_count": 79,
     "metadata": {},
     "output_type": "execute_result"
    }
   ],
   "source": [
    "str.lower(a)"
   ]
  },
  {
   "cell_type": "code",
   "execution_count": 81,
   "id": "92b39a3c-7eba-4ccb-b287-742fe5f0dbe2",
   "metadata": {},
   "outputs": [
    {
     "data": {
      "text/plain": [
       "'HOW ARE YOU'"
      ]
     },
     "execution_count": 81,
     "metadata": {},
     "output_type": "execute_result"
    }
   ],
   "source": [
    "b='HOW ARE YOU'\n",
    "b"
   ]
  },
  {
   "cell_type": "code",
   "execution_count": 83,
   "id": "51b1caf3-7a2a-41eb-a72b-9e1dd93d6f96",
   "metadata": {},
   "outputs": [
    {
     "data": {
      "text/plain": [
       "'how are you'"
      ]
     },
     "execution_count": 83,
     "metadata": {},
     "output_type": "execute_result"
    }
   ],
   "source": [
    "str.lower(b)"
   ]
  },
  {
   "cell_type": "code",
   "execution_count": 85,
   "id": "c4b641f6-802b-435b-aa79-8b0411e68aca",
   "metadata": {},
   "outputs": [
    {
     "data": {
      "text/plain": [
       "'my name is sweety'"
      ]
     },
     "execution_count": 85,
     "metadata": {},
     "output_type": "execute_result"
    }
   ],
   "source": [
    "c='my name is sweety'\n",
    "c"
   ]
  },
  {
   "cell_type": "code",
   "execution_count": 87,
   "id": "18f5453a-ddd5-46c5-a2eb-6dd4bdea45ce",
   "metadata": {},
   "outputs": [
    {
     "data": {
      "text/plain": [
       "'MY NAME IS SWEETY'"
      ]
     },
     "execution_count": 87,
     "metadata": {},
     "output_type": "execute_result"
    }
   ],
   "source": [
    "str.upper(c)"
   ]
  },
  {
   "cell_type": "code",
   "execution_count": 89,
   "id": "885d5cf1-70f3-407d-b460-ca3e69f56b10",
   "metadata": {},
   "outputs": [
    {
     "data": {
      "text/plain": [
       "'i am very sweet'"
      ]
     },
     "execution_count": 89,
     "metadata": {},
     "output_type": "execute_result"
    }
   ],
   "source": [
    "s='i am very sweet'\n",
    "s"
   ]
  },
  {
   "cell_type": "code",
   "execution_count": 91,
   "id": "94412b5d-9e66-4442-bdd0-851b56277147",
   "metadata": {},
   "outputs": [
    {
     "data": {
      "text/plain": [
       "'I AM VERY SWEET'"
      ]
     },
     "execution_count": 91,
     "metadata": {},
     "output_type": "execute_result"
    }
   ],
   "source": [
    "str.upper(s)"
   ]
  },
  {
   "cell_type": "code",
   "execution_count": 93,
   "id": "785a7196-7dde-4c99-bb15-9520e1e12c9a",
   "metadata": {},
   "outputs": [
    {
     "data": {
      "text/plain": [
       "'i am very sweet'"
      ]
     },
     "execution_count": 93,
     "metadata": {},
     "output_type": "execute_result"
    }
   ],
   "source": [
    "s"
   ]
  },
  {
   "cell_type": "code",
   "execution_count": 95,
   "id": "cc3f91c9-16d8-480c-ac18-f3d2701487a9",
   "metadata": {},
   "outputs": [
    {
     "data": {
      "text/plain": [
       "'I am very sweet'"
      ]
     },
     "execution_count": 95,
     "metadata": {},
     "output_type": "execute_result"
    }
   ],
   "source": [
    "str.capitalize(s)"
   ]
  },
  {
   "cell_type": "code",
   "execution_count": 97,
   "id": "85dfc724-55ca-4b0a-9947-a8367b50cfcc",
   "metadata": {},
   "outputs": [
    {
     "data": {
      "text/plain": [
       "'I Am Very Sweet'"
      ]
     },
     "execution_count": 97,
     "metadata": {},
     "output_type": "execute_result"
    }
   ],
   "source": [
    "str.title(s)"
   ]
  },
  {
   "cell_type": "code",
   "execution_count": 99,
   "id": "f52212ac-5626-4ad9-8947-c8af80f3bc9e",
   "metadata": {},
   "outputs": [
    {
     "data": {
      "text/plain": [
       "'Hi KeShAv HoW ArE YoU'"
      ]
     },
     "execution_count": 99,
     "metadata": {},
     "output_type": "execute_result"
    }
   ],
   "source": [
    "k='Hi KeShAv HoW ArE YoU'\n",
    "k"
   ]
  },
  {
   "cell_type": "code",
   "execution_count": 101,
   "id": "1cef92da-d479-4d48-ab33-e27faa76219b",
   "metadata": {},
   "outputs": [
    {
     "data": {
      "text/plain": [
       "'hI kEsHaV hOw aRe yOu'"
      ]
     },
     "execution_count": 101,
     "metadata": {},
     "output_type": "execute_result"
    }
   ],
   "source": [
    "str.swapcase(k)"
   ]
  },
  {
   "cell_type": "markdown",
   "id": "aa0b082b-7cb8-4d0b-b002-84b89de4911f",
   "metadata": {},
   "source": [
    "# Stripping Whitespace"
   ]
  },
  {
   "cell_type": "raw",
   "id": "cc08f388-e88d-4baa-afdb-22de6254701a",
   "metadata": {},
   "source": [
    "1) str.strip() it remove first and last whitespace."
   ]
  },
  {
   "cell_type": "code",
   "execution_count": 104,
   "id": "fb62ab47-f531-486f-9cd3-4cdc956a87ba",
   "metadata": {},
   "outputs": [
    {
     "data": {
      "text/plain": [
       "'  i am very intelligent  '"
      ]
     },
     "execution_count": 104,
     "metadata": {},
     "output_type": "execute_result"
    }
   ],
   "source": [
    "keshav='  i am very intelligent  '\n",
    "keshav"
   ]
  },
  {
   "cell_type": "code",
   "execution_count": 106,
   "id": "e8bd2082-e06c-4c6e-8b1b-826ac36c3f40",
   "metadata": {},
   "outputs": [
    {
     "data": {
      "text/plain": [
       "'i am very intelligent'"
      ]
     },
     "execution_count": 106,
     "metadata": {},
     "output_type": "execute_result"
    }
   ],
   "source": [
    "s=str.strip(keshav)\n",
    "s"
   ]
  },
  {
   "cell_type": "code",
   "execution_count": 108,
   "id": "4eeab406-df2b-4452-aff1-08c6d93ceb98",
   "metadata": {},
   "outputs": [
    {
     "data": {
      "text/plain": [
       "'i am very intelligent'"
      ]
     },
     "execution_count": 108,
     "metadata": {},
     "output_type": "execute_result"
    }
   ],
   "source": [
    "str.strip(s)"
   ]
  },
  {
   "cell_type": "raw",
   "id": "72d2ee15-4673-439f-84b5-4ec13f6daed0",
   "metadata": {},
   "source": [
    "2) str.lstrip() it removes the left side whitespace."
   ]
  },
  {
   "cell_type": "code",
   "execution_count": 110,
   "id": "217484db-a12a-4ff6-8bec-5585765c0c36",
   "metadata": {},
   "outputs": [
    {
     "data": {
      "text/plain": [
       "'  India is my country  '"
      ]
     },
     "execution_count": 110,
     "metadata": {},
     "output_type": "execute_result"
    }
   ],
   "source": [
    "i='  India is my country  '\n",
    "i"
   ]
  },
  {
   "cell_type": "code",
   "execution_count": 112,
   "id": "4795c8c3-d124-46c3-ae52-69af66e3aa50",
   "metadata": {},
   "outputs": [
    {
     "data": {
      "text/plain": [
       "'India is my country  '"
      ]
     },
     "execution_count": 112,
     "metadata": {},
     "output_type": "execute_result"
    }
   ],
   "source": [
    "str.lstrip(i)"
   ]
  },
  {
   "cell_type": "raw",
   "id": "d89d2b3e-fbb9-4246-b570-352dbeeca20c",
   "metadata": {},
   "source": [
    "3) str.rstrip() it removes the right side whitespace."
   ]
  },
  {
   "cell_type": "code",
   "execution_count": 114,
   "id": "609be285-b435-4cb0-baaa-447b2d982601",
   "metadata": {},
   "outputs": [
    {
     "data": {
      "text/plain": [
       "'  India is my country  '"
      ]
     },
     "execution_count": 114,
     "metadata": {},
     "output_type": "execute_result"
    }
   ],
   "source": [
    "i"
   ]
  },
  {
   "cell_type": "code",
   "execution_count": 116,
   "id": "eed6f132-32e5-44bc-900f-48f3313fbe09",
   "metadata": {},
   "outputs": [
    {
     "data": {
      "text/plain": [
       "'  India is my country'"
      ]
     },
     "execution_count": 116,
     "metadata": {},
     "output_type": "execute_result"
    }
   ],
   "source": [
    "str.rstrip(i)"
   ]
  },
  {
   "cell_type": "code",
   "execution_count": 118,
   "id": "514c64a3-4a54-4e78-802b-943896756c8e",
   "metadata": {},
   "outputs": [
    {
     "data": {
      "text/plain": [
       "'India is my country'"
      ]
     },
     "execution_count": 118,
     "metadata": {},
     "output_type": "execute_result"
    }
   ],
   "source": [
    "str.strip(i)"
   ]
  },
  {
   "cell_type": "markdown",
   "id": "3c9988d9-95f0-4431-92fa-1b6c977cc656",
   "metadata": {},
   "source": [
    "# Finding and Replacing"
   ]
  },
  {
   "cell_type": "raw",
   "id": "c575165e-57ba-40dc-80f2-361f043e5154",
   "metadata": {},
   "source": [
    "1) str.find('the required character of string') finds the index of required characters from the string.\n",
    "\n",
    "2) str.replace(,) requires two arguments before the come the charater which you want to remove and after the come the character that you want to replace in place of the removed one."
   ]
  },
  {
   "cell_type": "code",
   "execution_count": 121,
   "id": "ec77ab37-8098-4050-ab13-03e9afd88fea",
   "metadata": {},
   "outputs": [
    {
     "data": {
      "text/plain": [
       "'keshav wants to learn python'"
      ]
     },
     "execution_count": 121,
     "metadata": {},
     "output_type": "execute_result"
    }
   ],
   "source": [
    "s= 'keshav wants to learn python'\n",
    "s"
   ]
  },
  {
   "cell_type": "code",
   "execution_count": 123,
   "id": "6b2e2bad-5398-43c7-bd3d-81f4df6a6852",
   "metadata": {},
   "outputs": [
    {
     "data": {
      "text/plain": [
       "22"
      ]
     },
     "execution_count": 123,
     "metadata": {},
     "output_type": "execute_result"
    }
   ],
   "source": [
    "s.find('python')"
   ]
  },
  {
   "cell_type": "code",
   "execution_count": 125,
   "id": "ed7bbf16-c231-4d35-a9cf-d9de8a837ea7",
   "metadata": {},
   "outputs": [
    {
     "data": {
      "text/plain": [
       "'keshav wants to learn MS excel'"
      ]
     },
     "execution_count": 125,
     "metadata": {},
     "output_type": "execute_result"
    }
   ],
   "source": [
    "s.replace('python','MS excel')"
   ]
  },
  {
   "cell_type": "code",
   "execution_count": 127,
   "id": "e084d180-ef5c-4ec3-a1e5-14261339cd49",
   "metadata": {},
   "outputs": [
    {
     "data": {
      "text/plain": [
       "'  India is my country  '"
      ]
     },
     "execution_count": 127,
     "metadata": {},
     "output_type": "execute_result"
    }
   ],
   "source": [
    "i"
   ]
  },
  {
   "cell_type": "code",
   "execution_count": 129,
   "id": "27ed1b74-75cf-4bd7-b086-7484b2256fec",
   "metadata": {},
   "outputs": [
    {
     "data": {
      "text/plain": [
       "<function str.lstrip(chars=None, /)>"
      ]
     },
     "execution_count": 129,
     "metadata": {},
     "output_type": "execute_result"
    }
   ],
   "source": [
    "i.lstrip"
   ]
  },
  {
   "cell_type": "raw",
   "id": "0ec017ee-147c-463a-b2df-5fd94a7e4d13",
   "metadata": {},
   "source": [
    "# str.find(sub) it gives the lowest index of the string if it exists.\n",
    "# str.rfind(sub) it gives the highest index of the string if it exists."
   ]
  },
  {
   "cell_type": "code",
   "execution_count": 131,
   "id": "365728e2-9668-485c-b97a-ec23445dee11",
   "metadata": {},
   "outputs": [
    {
     "data": {
      "text/plain": [
       "'Keshav is my friend and Keshav is so smart.'"
      ]
     },
     "execution_count": 131,
     "metadata": {},
     "output_type": "execute_result"
    }
   ],
   "source": [
    "s='Keshav is my friend and Keshav is so smart.'\n",
    "s"
   ]
  },
  {
   "cell_type": "code",
   "execution_count": 133,
   "id": "630eef75-5cd7-4ea3-86d1-463561900f7e",
   "metadata": {},
   "outputs": [
    {
     "data": {
      "text/plain": [
       "0"
      ]
     },
     "execution_count": 133,
     "metadata": {},
     "output_type": "execute_result"
    }
   ],
   "source": [
    "s.find('Keshav')"
   ]
  },
  {
   "cell_type": "code",
   "execution_count": 135,
   "id": "859419f1-a1e6-46c2-a290-615ade2ee6bb",
   "metadata": {},
   "outputs": [
    {
     "data": {
      "text/plain": [
       "24"
      ]
     },
     "execution_count": 135,
     "metadata": {},
     "output_type": "execute_result"
    }
   ],
   "source": [
    "s.rfind('Keshav')"
   ]
  },
  {
   "cell_type": "code",
   "execution_count": 137,
   "id": "2362a514-1b85-443a-aa46-bb96a221b2ed",
   "metadata": {},
   "outputs": [
    {
     "data": {
      "text/plain": [
       "'Pooja is my friend and Pooja is so smart.'"
      ]
     },
     "execution_count": 137,
     "metadata": {},
     "output_type": "execute_result"
    }
   ],
   "source": [
    "s.replace('Keshav','Pooja')"
   ]
  },
  {
   "cell_type": "markdown",
   "id": "a5b94c6f-89cd-4f0e-94d1-32af0fb22e09",
   "metadata": {},
   "source": [
    "# Splitting and Joining"
   ]
  },
  {
   "cell_type": "raw",
   "id": "7bc70dc2-6ef0-4180-be51-81b410d9c744",
   "metadata": {},
   "source": [
    "1) str.split() it splits the gives string into based on the whitespaces.\n",
    "\n",
    "2) str.rsplit() it splits the given string from the right based on whitespaces."
   ]
  },
  {
   "cell_type": "code",
   "execution_count": 140,
   "id": "7cd8709b-990a-492a-9a62-6ea1a9fe977b",
   "metadata": {},
   "outputs": [
    {
     "data": {
      "text/plain": [
       "'Keshav is my friend and Keshav is so smart.'"
      ]
     },
     "execution_count": 140,
     "metadata": {},
     "output_type": "execute_result"
    }
   ],
   "source": [
    "s"
   ]
  },
  {
   "cell_type": "code",
   "execution_count": 142,
   "id": "22a035a6-4928-4bb9-a09a-c0d89cfb3bd4",
   "metadata": {},
   "outputs": [
    {
     "data": {
      "text/plain": [
       "['Keshav', 'is', 'my', 'friend', 'and', 'Keshav', 'is', 'so', 'smart.']"
      ]
     },
     "execution_count": 142,
     "metadata": {},
     "output_type": "execute_result"
    }
   ],
   "source": [
    "s.split()"
   ]
  },
  {
   "cell_type": "code",
   "execution_count": 144,
   "id": "cfcf38f0-dd57-4e31-8d2b-7f56feb581cd",
   "metadata": {},
   "outputs": [
    {
     "data": {
      "text/plain": [
       "['Ke', 'hav i', ' my friend and Ke', 'hav i', ' ', 'o ', 'mart.']"
      ]
     },
     "execution_count": 144,
     "metadata": {},
     "output_type": "execute_result"
    }
   ],
   "source": [
    "s.rsplit('s')"
   ]
  },
  {
   "cell_type": "code",
   "execution_count": 146,
   "id": "01e4b6f1-f39b-44c7-a9e3-25da54e86bbc",
   "metadata": {},
   "outputs": [
    {
     "data": {
      "text/plain": [
       "['Ke', 'hav i', ' my friend and Ke', 'hav i', ' ', 'o ', 'mart.']"
      ]
     },
     "execution_count": 146,
     "metadata": {},
     "output_type": "execute_result"
    }
   ],
   "source": [
    "s.split('s')"
   ]
  },
  {
   "cell_type": "raw",
   "id": "82a74319-ff2c-43a8-9c28-dc750308c8b9",
   "metadata": {},
   "source": [
    "3) str.splitlines() split the string at line breaks i.e. converts the whole line into one list member.\n",
    "\n",
    "4) str.join('character which you want to use for joining') joins the string based on the argument."
   ]
  },
  {
   "cell_type": "code",
   "execution_count": 148,
   "id": "7088041d-16dc-4f84-8da0-d0d108f4818d",
   "metadata": {},
   "outputs": [
    {
     "data": {
      "text/plain": [
       "'Keshav is my friend and Keshav is so smart.'"
      ]
     },
     "execution_count": 148,
     "metadata": {},
     "output_type": "execute_result"
    }
   ],
   "source": [
    "s"
   ]
  },
  {
   "cell_type": "code",
   "execution_count": 150,
   "id": "b8e3842a-f247-41ab-858b-986533ef3471",
   "metadata": {},
   "outputs": [
    {
     "data": {
      "text/plain": [
       "['Keshav is my friend and Keshav is so smart.']"
      ]
     },
     "execution_count": 150,
     "metadata": {},
     "output_type": "execute_result"
    }
   ],
   "source": [
    "s.splitlines()"
   ]
  },
  {
   "cell_type": "code",
   "execution_count": 152,
   "id": "8db0ac3d-b794-43d3-9655-e9e15e638a5f",
   "metadata": {},
   "outputs": [
    {
     "data": {
      "text/plain": [
       "'Keshav is my friend and Keshav is so smart.'"
      ]
     },
     "execution_count": 152,
     "metadata": {},
     "output_type": "execute_result"
    }
   ],
   "source": [
    "s"
   ]
  },
  {
   "cell_type": "code",
   "execution_count": 154,
   "id": "e15ae04f-7acd-4062-ae1a-3438785c55ff",
   "metadata": {},
   "outputs": [
    {
     "data": {
      "text/plain": [
       "'DKeshav is my friend and Keshav is so smart.AKeshav is my friend and Keshav is so smart.RKeshav is my friend and Keshav is so smart.K'"
      ]
     },
     "execution_count": 154,
     "metadata": {},
     "output_type": "execute_result"
    }
   ],
   "source": [
    "s.join('DARK')"
   ]
  },
  {
   "cell_type": "markdown",
   "id": "7297728a-6687-497a-9ab2-1d764c3fe979",
   "metadata": {},
   "source": [
    "# Checking Characteristics"
   ]
  },
  {
   "cell_type": "raw",
   "id": "140aabfc-c573-4133-ac41-252a40babf60",
   "metadata": {},
   "source": [
    "1) str.startswith('starting character of your string') if you give the correct starting.\n",
    "character then result shows True and if not then it gives False.\n",
    "\n",
    "2) str.endswith('ending character of your string') if you give the correct ending.\n",
    "character then result shows True and if not then it gives Fales.\n",
    "\n",
    "3) str.isalpha() it checks whether all the string characters are alphabetic or not i.e if\n",
    "if all characters are alphabetic then True will appears in the result otherwise False will appers in the result.\n",
    "\n",
    "4) str.isnum() it checks whether all the characters of the string are numeric or not if all\n",
    "characters are numeric then True will appears in the result otherwise the result is False.\n",
    "\n",
    "5) str.isspace() it checks whether all the characters are null spaces or not."
   ]
  },
  {
   "cell_type": "code",
   "execution_count": 157,
   "id": "26f56966-f51c-4ca1-8149-169b7a339d60",
   "metadata": {},
   "outputs": [
    {
     "data": {
      "text/plain": [
       "'Sweety Govind Dhas'"
      ]
     },
     "execution_count": 157,
     "metadata": {},
     "output_type": "execute_result"
    }
   ],
   "source": [
    "s='Sweety Govind Dhas'\n",
    "s"
   ]
  },
  {
   "cell_type": "code",
   "execution_count": 159,
   "id": "1e87e928-7120-4274-af0a-1191ea9e9630",
   "metadata": {},
   "outputs": [
    {
     "data": {
      "text/plain": [
       "True"
      ]
     },
     "execution_count": 159,
     "metadata": {},
     "output_type": "execute_result"
    }
   ],
   "source": [
    "s.startswith('Sweety')"
   ]
  },
  {
   "cell_type": "code",
   "execution_count": 161,
   "id": "2e71b5d9-3de5-4c46-9827-eb5175335ab6",
   "metadata": {},
   "outputs": [
    {
     "data": {
      "text/plain": [
       "True"
      ]
     },
     "execution_count": 161,
     "metadata": {},
     "output_type": "execute_result"
    }
   ],
   "source": [
    "s.endswith('Dhas')"
   ]
  },
  {
   "cell_type": "code",
   "execution_count": 163,
   "id": "2af4c77b-6b6b-4a11-9fb5-3d9cedceb16a",
   "metadata": {},
   "outputs": [
    {
     "data": {
      "text/plain": [
       "False"
      ]
     },
     "execution_count": 163,
     "metadata": {},
     "output_type": "execute_result"
    }
   ],
   "source": [
    "s.startswith('Govind')"
   ]
  },
  {
   "cell_type": "code",
   "execution_count": 165,
   "id": "0f56a35d-5e95-47c8-8213-2487a1df680b",
   "metadata": {},
   "outputs": [
    {
     "data": {
      "text/plain": [
       "False"
      ]
     },
     "execution_count": 165,
     "metadata": {},
     "output_type": "execute_result"
    }
   ],
   "source": [
    "s.endswith('Sweety')"
   ]
  },
  {
   "cell_type": "code",
   "execution_count": 167,
   "id": "48d2c5c3-7663-4eab-8fdb-9f63cd10c82a",
   "metadata": {},
   "outputs": [
    {
     "data": {
      "text/plain": [
       "False"
      ]
     },
     "execution_count": 167,
     "metadata": {},
     "output_type": "execute_result"
    }
   ],
   "source": [
    "s.isalpha() # here the result shows false because there are whitespaces between the characters\n",
    "# of the string"
   ]
  },
  {
   "cell_type": "code",
   "execution_count": 169,
   "id": "0abb0e3b-6139-481e-9ef7-4eb7729ca81d",
   "metadata": {},
   "outputs": [
    {
     "data": {
      "text/plain": [
       "'sweetygovinddhas'"
      ]
     },
     "execution_count": 169,
     "metadata": {},
     "output_type": "execute_result"
    }
   ],
   "source": [
    "d='sweetygovinddhas'\n",
    "d"
   ]
  },
  {
   "cell_type": "code",
   "execution_count": 171,
   "id": "8d07b09e-91c0-40c8-9a0b-ebc2fb95e541",
   "metadata": {},
   "outputs": [
    {
     "data": {
      "text/plain": [
       "True"
      ]
     },
     "execution_count": 171,
     "metadata": {},
     "output_type": "execute_result"
    }
   ],
   "source": [
    "d.isalpha()"
   ]
  },
  {
   "cell_type": "code",
   "execution_count": 172,
   "id": "9dd684a6-1d0a-4988-b1f1-1472a69cca0b",
   "metadata": {},
   "outputs": [
    {
     "data": {
      "text/plain": [
       "'512'"
      ]
     },
     "execution_count": 172,
     "metadata": {},
     "output_type": "execute_result"
    }
   ],
   "source": [
    "g='512'\n",
    "g"
   ]
  },
  {
   "cell_type": "code",
   "execution_count": 174,
   "id": "ca2376c4-5792-46ee-b5c2-c4cd3d36aab0",
   "metadata": {},
   "outputs": [
    {
     "data": {
      "text/plain": [
       "True"
      ]
     },
     "execution_count": 174,
     "metadata": {},
     "output_type": "execute_result"
    }
   ],
   "source": [
    "g.isdigit()"
   ]
  },
  {
   "cell_type": "code",
   "execution_count": 175,
   "id": "b05832d0-7848-4265-87d8-98319d22b037",
   "metadata": {},
   "outputs": [
    {
     "data": {
      "text/plain": [
       "False"
      ]
     },
     "execution_count": 175,
     "metadata": {},
     "output_type": "execute_result"
    }
   ],
   "source": [
    "k='k54' # here the string is mixed type not only numeric hence result give False\n",
    "k\n",
    "k.isdigit()"
   ]
  },
  {
   "cell_type": "code",
   "execution_count": 177,
   "id": "3cf55e02-521e-42dd-8781-c2b570a9f30d",
   "metadata": {},
   "outputs": [
    {
     "data": {
      "text/plain": [
       "'k54'"
      ]
     },
     "execution_count": 177,
     "metadata": {},
     "output_type": "execute_result"
    }
   ],
   "source": [
    "k"
   ]
  },
  {
   "cell_type": "code",
   "execution_count": 178,
   "id": "eb82aad5-e8d6-47b7-832d-c39a3615601d",
   "metadata": {},
   "outputs": [
    {
     "data": {
      "text/plain": [
       "True"
      ]
     },
     "execution_count": 178,
     "metadata": {},
     "output_type": "execute_result"
    }
   ],
   "source": [
    "k.isalnum() # this gives True result because the string is mixed type"
   ]
  },
  {
   "cell_type": "code",
   "execution_count": 180,
   "id": "01f886d7-976f-49fe-9612-f6f994d4c6f7",
   "metadata": {},
   "outputs": [
    {
     "data": {
      "text/plain": [
       "True"
      ]
     },
     "execution_count": 180,
     "metadata": {},
     "output_type": "execute_result"
    }
   ],
   "source": [
    "b='   '\n",
    "b\n",
    "b.isspace()"
   ]
  },
  {
   "cell_type": "code",
   "execution_count": 181,
   "id": "484c81a4-6dac-4b3d-b14e-920791c54864",
   "metadata": {},
   "outputs": [
    {
     "data": {
      "text/plain": [
       "False"
      ]
     },
     "execution_count": 181,
     "metadata": {},
     "output_type": "execute_result"
    }
   ],
   "source": [
    "h='' # this will give False in result because there is no any space available\n",
    "h\n",
    "h.isspace()"
   ]
  },
  {
   "cell_type": "code",
   "execution_count": null,
   "id": "e7eff7dc-9363-4283-86f8-60720876c546",
   "metadata": {},
   "outputs": [],
   "source": []
  }
 ],
 "metadata": {
  "kernelspec": {
   "display_name": "Python 3 (ipykernel)",
   "language": "python",
   "name": "python3"
  },
  "language_info": {
   "codemirror_mode": {
    "name": "ipython",
    "version": 3
   },
   "file_extension": ".py",
   "mimetype": "text/x-python",
   "name": "python",
   "nbconvert_exporter": "python",
   "pygments_lexer": "ipython3",
   "version": "3.12.4"
  }
 },
 "nbformat": 4,
 "nbformat_minor": 5
}
